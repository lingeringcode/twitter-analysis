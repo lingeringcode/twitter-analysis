{
 "metadata": {
  "name": "",
  "signature": "sha256:af94d88bd5ad7d1e6934411dcf0dae633e856755e2a564fc7036c8195fa2bb8d"
 },
 "nbformat": 3,
 "nbformat_minor": 0,
 "worksheets": [
  {
   "cells": [
    {
     "cell_type": "code",
     "collapsed": false,
     "input": [
      "import pandas as pd\n",
      "from pandas.tseries.resample import TimeGrouper\n",
      "from pandas.tseries.offsets import DateOffset\n",
      "from pandas.tseries.offsets import *\n",
      "rsa_kw = pd.read_csv('/home/lingeringcode/projects/rsa-analysis/lndgrn_rsaCount.csv')\n",
      "rsa_kw['time'] = pd.to_datetime(pd.Series(rsa_kw['time']))\n",
      "rsa_kw.set_index('time', drop=False, inplace=True)\n",
      "rsa_kw.index = rsa_kw.index - DateOffset(hours = 5)\n",
      "rsa_kw.index"
     ],
     "language": "python",
     "metadata": {},
     "outputs": [
      {
       "metadata": {},
       "output_type": "pyout",
       "prompt_number": 1,
       "text": [
        "<class 'pandas.tseries.index.DatetimeIndex'>\n",
        "[2014-05-24 10:04:26, ..., 2014-05-26 12:42:30]\n",
        "Length: 626, Freq: None, Timezone: None"
       ]
      }
     ],
     "prompt_number": 1
    },
    {
     "cell_type": "code",
     "collapsed": false,
     "input": [
      "rsa_kw.head()"
     ],
     "language": "python",
     "metadata": {},
     "outputs": [
      {
       "html": [
        "<div style=\"max-height:1000px;max-width:1500px;overflow:auto;\">\n",
        "<table border=\"1\" class=\"dataframe\">\n",
        "  <thead>\n",
        "    <tr style=\"text-align: right;\">\n",
        "      <th></th>\n",
        "      <th>time</th>\n",
        "      <th>kwtweet</th>\n",
        "    </tr>\n",
        "  </thead>\n",
        "  <tbody>\n",
        "    <tr>\n",
        "      <th>2014-05-24 10:04:26</th>\n",
        "      <td>2014-05-24 15:04:26</td>\n",
        "      <td> \u201c@lndgrn: the #rsa14 twitter network is growin...</td>\n",
        "    </tr>\n",
        "    <tr>\n",
        "      <th>2014-05-24 08:31:26</th>\n",
        "      <td>2014-05-24 13:31:26</td>\n",
        "      <td> @cgbrooke will buy a beer for #rsa14 social me...</td>\n",
        "    </tr>\n",
        "    <tr>\n",
        "      <th>2014-05-24 06:17:17</th>\n",
        "      <td>2014-05-24 11:17:17</td>\n",
        "      <td> rt @lndgrn: #rsa14 alcoff defines the boundari...</td>\n",
        "    </tr>\n",
        "    <tr>\n",
        "      <th>2014-05-23 21:19:02</th>\n",
        "      <td>2014-05-24 02:19:02</td>\n",
        "      <td> rt @lndgrn: #rsa14 alcoff sharply points out t...</td>\n",
        "    </tr>\n",
        "    <tr>\n",
        "      <th>2014-05-23 21:18:21</th>\n",
        "      <td>2014-05-24 02:18:21</td>\n",
        "      <td> rt @lndgrn: #rsa14 alcoff's desiderata on soci...</td>\n",
        "    </tr>\n",
        "  </tbody>\n",
        "</table>\n",
        "<p>5 rows \u00d7 2 columns</p>\n",
        "</div>"
       ],
       "metadata": {},
       "output_type": "pyout",
       "prompt_number": 2,
       "text": [
        "                                   time  \\\n",
        "2014-05-24 10:04:26 2014-05-24 15:04:26   \n",
        "2014-05-24 08:31:26 2014-05-24 13:31:26   \n",
        "2014-05-24 06:17:17 2014-05-24 11:17:17   \n",
        "2014-05-23 21:19:02 2014-05-24 02:19:02   \n",
        "2014-05-23 21:18:21 2014-05-24 02:18:21   \n",
        "\n",
        "                                                               kwtweet  \n",
        "2014-05-24 10:04:26  \u201c@lndgrn: the #rsa14 twitter network is growin...  \n",
        "2014-05-24 08:31:26  @cgbrooke will buy a beer for #rsa14 social me...  \n",
        "2014-05-24 06:17:17  rt @lndgrn: #rsa14 alcoff defines the boundari...  \n",
        "2014-05-23 21:19:02  rt @lndgrn: #rsa14 alcoff sharply points out t...  \n",
        "2014-05-23 21:18:21  rt @lndgrn: #rsa14 alcoff's desiderata on soci...  \n",
        "\n",
        "[5 rows x 2 columns]"
       ]
      }
     ],
     "prompt_number": 2
    },
    {
     "cell_type": "code",
     "collapsed": false,
     "input": [
      "rsa_kw.describe()"
     ],
     "language": "python",
     "metadata": {},
     "outputs": [
      {
       "html": [
        "<div style=\"max-height:1000px;max-width:1500px;overflow:auto;\">\n",
        "<table border=\"1\" class=\"dataframe\">\n",
        "  <thead>\n",
        "    <tr style=\"text-align: right;\">\n",
        "      <th></th>\n",
        "      <th>time</th>\n",
        "      <th>kwtweet</th>\n",
        "    </tr>\n",
        "  </thead>\n",
        "  <tbody>\n",
        "    <tr>\n",
        "      <th>count</th>\n",
        "      <td>                 626</td>\n",
        "      <td>                                               626</td>\n",
        "    </tr>\n",
        "    <tr>\n",
        "      <th>first</th>\n",
        "      <td> 2014-05-07 12:30:33</td>\n",
        "      <td>                                               NaN</td>\n",
        "    </tr>\n",
        "    <tr>\n",
        "      <th>freq</th>\n",
        "      <td>                  10</td>\n",
        "      <td>                                                88</td>\n",
        "    </tr>\n",
        "    <tr>\n",
        "      <th>last</th>\n",
        "      <td> 2014-05-26 17:42:30</td>\n",
        "      <td>                                               NaN</td>\n",
        "    </tr>\n",
        "    <tr>\n",
        "      <th>top</th>\n",
        "      <td> 2014-05-22 21:16:45</td>\n",
        "      <td> rt @lndgrn: the #rsa14 twitter network is grow...</td>\n",
        "    </tr>\n",
        "    <tr>\n",
        "      <th>unique</th>\n",
        "      <td>                 230</td>\n",
        "      <td>                                               161</td>\n",
        "    </tr>\n",
        "  </tbody>\n",
        "</table>\n",
        "<p>6 rows \u00d7 2 columns</p>\n",
        "</div>"
       ],
       "metadata": {},
       "output_type": "pyout",
       "prompt_number": 3,
       "text": [
        "                       time                                            kwtweet\n",
        "count                   626                                                626\n",
        "first   2014-05-07 12:30:33                                                NaN\n",
        "freq                     10                                                 88\n",
        "last    2014-05-26 17:42:30                                                NaN\n",
        "top     2014-05-22 21:16:45  rt @lndgrn: the #rsa14 twitter network is grow...\n",
        "unique                  230                                                161\n",
        "\n",
        "[6 rows x 2 columns]"
       ]
      }
     ],
     "prompt_number": 3
    },
    {
     "cell_type": "code",
     "collapsed": false,
     "input": [
      "rsa_kw60m = rsa_kw['time'].resample('60t', how='count')\n",
      "rsa_kw60m.head()"
     ],
     "language": "python",
     "metadata": {},
     "outputs": [
      {
       "metadata": {},
       "output_type": "pyout",
       "prompt_number": 12,
       "text": [
        "2014-05-07 07:00:00    5\n",
        "2014-05-07 08:00:00    6\n",
        "2014-05-07 09:00:00    2\n",
        "2014-05-07 10:00:00    0\n",
        "2014-05-07 11:00:00    0\n",
        "Name: time, dtype: int64"
       ]
      }
     ],
     "prompt_number": 12
    },
    {
     "cell_type": "code",
     "collapsed": false,
     "input": [
      "import vincent\n",
      "vincent.core.initialize_notebook()\n",
      "area = vincent.Area(rsa_kw120m)\n",
      "area.legend(title='RSA14: @lndgrn mentions')\n",
      "area.axis_titles(x='Time', y='# of tweets with \\'@lndgrn\\'/2 hours')\n",
      "area.colors(brew='Spectral')\n",
      "area.display()"
     ],
     "language": "python",
     "metadata": {},
     "outputs": [
      {
       "html": [
        "\n",
        "           <script>\n",
        "               \n",
        "                function vct_load_lib(url, callback){\n",
        "                      if(typeof d3 !== 'undefined' &&\n",
        "                         url === 'http://d3js.org/d3.v3.min.js'){\n",
        "                        callback()\n",
        "                      }\n",
        "                      var s = document.createElement('script');\n",
        "                      s.src = url;\n",
        "                      s.async = true;\n",
        "                      s.onreadystatechange = s.onload = callback;\n",
        "                      s.onerror = function(){\n",
        "                        console.warn(\"failed to load library \" + url);\n",
        "                        };\n",
        "                      document.getElementsByTagName(\"head\")[0].appendChild(s);\n",
        "                };\n",
        "                var vincent_event = new CustomEvent(\n",
        "                  \"vincent_libs_loaded\",\n",
        "                  {bubbles: true, cancelable: true}\n",
        "                );\n",
        "                \n",
        "               function load_all_libs(){\n",
        "                  console.log('Loading Vincent libs...')\n",
        "                  vct_load_lib('http://d3js.org/d3.v3.min.js', function(){\n",
        "                  vct_load_lib('http://d3js.org/d3.geo.projection.v0.min.js', function(){\n",
        "                  vct_load_lib('http://wrobstory.github.io/d3-cloud/d3.layout.cloud.js', function(){\n",
        "                  vct_load_lib('http://wrobstory.github.io/vega/vega.v1.3.3.js', function(){\n",
        "                  window.dispatchEvent(vincent_event);\n",
        "                  });\n",
        "                  });\n",
        "                  });\n",
        "                  });\n",
        "               };\n",
        "               if(typeof define === \"function\" && define.amd){\n",
        "                    if (window['d3'] === undefined ||\n",
        "                        window['topojson'] === undefined){\n",
        "                        require.config(\n",
        "                            {paths: {\n",
        "                              d3: 'http://d3js.org/d3.v3.min',\n",
        "                              topojson: 'http://d3js.org/topojson.v1.min'\n",
        "                              }\n",
        "                            }\n",
        "                          );\n",
        "                        require([\"d3\"], function(d3){\n",
        "                            console.log('Loading Vincent from require.js...')\n",
        "                            window.d3 = d3;\n",
        "                            require([\"topojson\"], function(topojson){\n",
        "                                window.topojson = topojson;\n",
        "                                load_all_libs();\n",
        "                            });\n",
        "                        });\n",
        "                    } else {\n",
        "                        load_all_libs();\n",
        "                    };\n",
        "               }else{\n",
        "                    console.log('Require.js not found, loading manually...')\n",
        "                    load_all_libs();\n",
        "               };\n",
        "\n",
        "           </script>"
       ],
       "metadata": {},
       "output_type": "display_data",
       "text": [
        "<IPython.core.display.HTML at 0x4537990>"
       ]
      },
      {
       "html": [
        "<div id=\"visa542ad58c7384dafb6b73219881bf580\"></div>\n",
        "<script>\n",
        "   ( function() {\n",
        "     var _do_plot = function() {\n",
        "       if (typeof vg === 'undefined') {\n",
        "         window.addEventListener('vincent_libs_loaded', _do_plot)\n",
        "         return;\n",
        "       }\n",
        "       vg.parse.spec({\"axes\": [{\"scale\": \"x\", \"title\": \"Time\", \"type\": \"x\"}, {\"scale\": \"y\", \"title\": \"# of tweets with '@lndgrn'/2 hours\", \"type\": \"y\"}], \"data\": [{\"name\": \"table\", \"values\": [{\"col\": \"time\", \"idx\": 1399460400000, \"val\": 5}, {\"col\": \"time\", \"idx\": 1399467600000, \"val\": 8}, {\"col\": \"time\", \"idx\": 1399474800000, \"val\": 0}, {\"col\": \"time\", \"idx\": 1399482000000, \"val\": 1}, {\"col\": \"time\", \"idx\": 1399489200000, \"val\": 1}, {\"col\": \"time\", \"idx\": 1399496400000, \"val\": 1}, {\"col\": \"time\", \"idx\": 1399503600000, \"val\": 2}, {\"col\": \"time\", \"idx\": 1399510800000, \"val\": 1}, {\"col\": \"time\", \"idx\": 1399518000000, \"val\": 0}, {\"col\": \"time\", \"idx\": 1399525200000, \"val\": 0}, {\"col\": \"time\", \"idx\": 1399532400000, \"val\": 0}, {\"col\": \"time\", \"idx\": 1399539600000, \"val\": 0}, {\"col\": \"time\", \"idx\": 1399546800000, \"val\": 0}, {\"col\": \"time\", \"idx\": 1399554000000, \"val\": 0}, {\"col\": \"time\", \"idx\": 1399561200000, \"val\": 0}, {\"col\": \"time\", \"idx\": 1399568400000, \"val\": 0}, {\"col\": \"time\", \"idx\": 1399575600000, \"val\": 2}, {\"col\": \"time\", \"idx\": 1399582800000, \"val\": 0}, {\"col\": \"time\", \"idx\": 1399590000000, \"val\": 0}, {\"col\": \"time\", \"idx\": 1399597200000, \"val\": 0}, {\"col\": \"time\", \"idx\": 1399604400000, \"val\": 0}, {\"col\": \"time\", \"idx\": 1399611600000, \"val\": 0}, {\"col\": \"time\", \"idx\": 1399618800000, \"val\": 0}, {\"col\": \"time\", \"idx\": 1399626000000, \"val\": 0}, {\"col\": \"time\", \"idx\": 1399633200000, \"val\": 0}, {\"col\": \"time\", \"idx\": 1399640400000, \"val\": 0}, {\"col\": \"time\", \"idx\": 1399647600000, \"val\": 0}, {\"col\": \"time\", \"idx\": 1399654800000, \"val\": 0}, {\"col\": \"time\", \"idx\": 1399662000000, \"val\": 0}, {\"col\": \"time\", \"idx\": 1399669200000, \"val\": 6}, {\"col\": \"time\", \"idx\": 1399676400000, \"val\": 0}, {\"col\": \"time\", \"idx\": 1399683600000, \"val\": 0}, {\"col\": \"time\", \"idx\": 1399690800000, \"val\": 0}, {\"col\": \"time\", \"idx\": 1399698000000, \"val\": 0}, {\"col\": \"time\", \"idx\": 1399705200000, \"val\": 0}, {\"col\": \"time\", \"idx\": 1399712400000, \"val\": 0}, {\"col\": \"time\", \"idx\": 1399719600000, \"val\": 0}, {\"col\": \"time\", \"idx\": 1399726800000, \"val\": 0}, {\"col\": \"time\", \"idx\": 1399734000000, \"val\": 0}, {\"col\": \"time\", \"idx\": 1399741200000, \"val\": 0}, {\"col\": \"time\", \"idx\": 1399748400000, \"val\": 0}, {\"col\": \"time\", \"idx\": 1399755600000, \"val\": 0}, {\"col\": \"time\", \"idx\": 1399762800000, \"val\": 0}, {\"col\": \"time\", \"idx\": 1399770000000, \"val\": 0}, {\"col\": \"time\", \"idx\": 1399777200000, \"val\": 0}, {\"col\": \"time\", \"idx\": 1399784400000, \"val\": 0}, {\"col\": \"time\", \"idx\": 1399791600000, \"val\": 0}, {\"col\": \"time\", \"idx\": 1399798800000, \"val\": 0}, {\"col\": \"time\", \"idx\": 1399806000000, \"val\": 0}, {\"col\": \"time\", \"idx\": 1399813200000, \"val\": 0}, {\"col\": \"time\", \"idx\": 1399820400000, \"val\": 0}, {\"col\": \"time\", \"idx\": 1399827600000, \"val\": 0}, {\"col\": \"time\", \"idx\": 1399834800000, \"val\": 0}, {\"col\": \"time\", \"idx\": 1399842000000, \"val\": 0}, {\"col\": \"time\", \"idx\": 1399849200000, \"val\": 3}, {\"col\": \"time\", \"idx\": 1399856400000, \"val\": 2}, {\"col\": \"time\", \"idx\": 1399863600000, \"val\": 0}, {\"col\": \"time\", \"idx\": 1399870800000, \"val\": 2}, {\"col\": \"time\", \"idx\": 1399878000000, \"val\": 0}, {\"col\": \"time\", \"idx\": 1399885200000, \"val\": 0}, {\"col\": \"time\", \"idx\": 1399892400000, \"val\": 0}, {\"col\": \"time\", \"idx\": 1399899600000, \"val\": 0}, {\"col\": \"time\", \"idx\": 1399906800000, \"val\": 0}, {\"col\": \"time\", \"idx\": 1399914000000, \"val\": 0}, {\"col\": \"time\", \"idx\": 1399921200000, \"val\": 0}, {\"col\": \"time\", \"idx\": 1399928400000, \"val\": 0}, {\"col\": \"time\", \"idx\": 1399935600000, \"val\": 4}, {\"col\": \"time\", \"idx\": 1399942800000, \"val\": 0}, {\"col\": \"time\", \"idx\": 1399950000000, \"val\": 0}, {\"col\": \"time\", \"idx\": 1399957200000, \"val\": 0}, {\"col\": \"time\", \"idx\": 1399964400000, \"val\": 0}, {\"col\": \"time\", \"idx\": 1399971600000, \"val\": 0}, {\"col\": \"time\", \"idx\": 1399978800000, \"val\": 0}, {\"col\": \"time\", \"idx\": 1399986000000, \"val\": 0}, {\"col\": \"time\", \"idx\": 1399993200000, \"val\": 0}, {\"col\": \"time\", \"idx\": 1400000400000, \"val\": 0}, {\"col\": \"time\", \"idx\": 1400007600000, \"val\": 0}, {\"col\": \"time\", \"idx\": 1400014800000, \"val\": 0}, {\"col\": \"time\", \"idx\": 1400022000000, \"val\": 0}, {\"col\": \"time\", \"idx\": 1400029200000, \"val\": 0}, {\"col\": \"time\", \"idx\": 1400036400000, \"val\": 0}, {\"col\": \"time\", \"idx\": 1400043600000, \"val\": 0}, {\"col\": \"time\", \"idx\": 1400050800000, \"val\": 0}, {\"col\": \"time\", \"idx\": 1400058000000, \"val\": 0}, {\"col\": \"time\", \"idx\": 1400065200000, \"val\": 0}, {\"col\": \"time\", \"idx\": 1400072400000, \"val\": 0}, {\"col\": \"time\", \"idx\": 1400079600000, \"val\": 0}, {\"col\": \"time\", \"idx\": 1400086800000, \"val\": 0}, {\"col\": \"time\", \"idx\": 1400094000000, \"val\": 0}, {\"col\": \"time\", \"idx\": 1400101200000, \"val\": 0}, {\"col\": \"time\", \"idx\": 1400108400000, \"val\": 0}, {\"col\": \"time\", \"idx\": 1400115600000, \"val\": 0}, {\"col\": \"time\", \"idx\": 1400122800000, \"val\": 0}, {\"col\": \"time\", \"idx\": 1400130000000, \"val\": 0}, {\"col\": \"time\", \"idx\": 1400137200000, \"val\": 0}, {\"col\": \"time\", \"idx\": 1400144400000, \"val\": 0}, {\"col\": \"time\", \"idx\": 1400151600000, \"val\": 0}, {\"col\": \"time\", \"idx\": 1400158800000, \"val\": 0}, {\"col\": \"time\", \"idx\": 1400166000000, \"val\": 0}, {\"col\": \"time\", \"idx\": 1400173200000, \"val\": 0}, {\"col\": \"time\", \"idx\": 1400180400000, \"val\": 0}, {\"col\": \"time\", \"idx\": 1400187600000, \"val\": 0}, {\"col\": \"time\", \"idx\": 1400194800000, \"val\": 0}, {\"col\": \"time\", \"idx\": 1400202000000, \"val\": 0}, {\"col\": \"time\", \"idx\": 1400209200000, \"val\": 0}, {\"col\": \"time\", \"idx\": 1400216400000, \"val\": 0}, {\"col\": \"time\", \"idx\": 1400223600000, \"val\": 0}, {\"col\": \"time\", \"idx\": 1400230800000, \"val\": 0}, {\"col\": \"time\", \"idx\": 1400238000000, \"val\": 0}, {\"col\": \"time\", \"idx\": 1400245200000, \"val\": 0}, {\"col\": \"time\", \"idx\": 1400252400000, \"val\": 0}, {\"col\": \"time\", \"idx\": 1400259600000, \"val\": 0}, {\"col\": \"time\", \"idx\": 1400266800000, \"val\": 0}, {\"col\": \"time\", \"idx\": 1400274000000, \"val\": 0}, {\"col\": \"time\", \"idx\": 1400281200000, \"val\": 0}, {\"col\": \"time\", \"idx\": 1400288400000, \"val\": 0}, {\"col\": \"time\", \"idx\": 1400295600000, \"val\": 0}, {\"col\": \"time\", \"idx\": 1400302800000, \"val\": 0}, {\"col\": \"time\", \"idx\": 1400310000000, \"val\": 0}, {\"col\": \"time\", \"idx\": 1400317200000, \"val\": 0}, {\"col\": \"time\", \"idx\": 1400324400000, \"val\": 0}, {\"col\": \"time\", \"idx\": 1400331600000, \"val\": 0}, {\"col\": \"time\", \"idx\": 1400338800000, \"val\": 0}, {\"col\": \"time\", \"idx\": 1400346000000, \"val\": 0}, {\"col\": \"time\", \"idx\": 1400353200000, \"val\": 0}, {\"col\": \"time\", \"idx\": 1400360400000, \"val\": 0}, {\"col\": \"time\", \"idx\": 1400367600000, \"val\": 0}, {\"col\": \"time\", \"idx\": 1400374800000, \"val\": 0}, {\"col\": \"time\", \"idx\": 1400382000000, \"val\": 0}, {\"col\": \"time\", \"idx\": 1400389200000, \"val\": 0}, {\"col\": \"time\", \"idx\": 1400396400000, \"val\": 0}, {\"col\": \"time\", \"idx\": 1400403600000, \"val\": 0}, {\"col\": \"time\", \"idx\": 1400410800000, \"val\": 0}, {\"col\": \"time\", \"idx\": 1400418000000, \"val\": 0}, {\"col\": \"time\", \"idx\": 1400425200000, \"val\": 0}, {\"col\": \"time\", \"idx\": 1400432400000, \"val\": 0}, {\"col\": \"time\", \"idx\": 1400439600000, \"val\": 0}, {\"col\": \"time\", \"idx\": 1400446800000, \"val\": 0}, {\"col\": \"time\", \"idx\": 1400454000000, \"val\": 6}, {\"col\": \"time\", \"idx\": 1400461200000, \"val\": 0}, {\"col\": \"time\", \"idx\": 1400468400000, \"val\": 0}, {\"col\": \"time\", \"idx\": 1400475600000, \"val\": 0}, {\"col\": \"time\", \"idx\": 1400482800000, \"val\": 0}, {\"col\": \"time\", \"idx\": 1400490000000, \"val\": 0}, {\"col\": \"time\", \"idx\": 1400497200000, \"val\": 0}, {\"col\": \"time\", \"idx\": 1400504400000, \"val\": 0}, {\"col\": \"time\", \"idx\": 1400511600000, \"val\": 0}, {\"col\": \"time\", \"idx\": 1400518800000, \"val\": 0}, {\"col\": \"time\", \"idx\": 1400526000000, \"val\": 0}, {\"col\": \"time\", \"idx\": 1400533200000, \"val\": 0}, {\"col\": \"time\", \"idx\": 1400540400000, \"val\": 0}, {\"col\": \"time\", \"idx\": 1400547600000, \"val\": 0}, {\"col\": \"time\", \"idx\": 1400554800000, \"val\": 0}, {\"col\": \"time\", \"idx\": 1400562000000, \"val\": 0}, {\"col\": \"time\", \"idx\": 1400569200000, \"val\": 0}, {\"col\": \"time\", \"idx\": 1400576400000, \"val\": 0}, {\"col\": \"time\", \"idx\": 1400583600000, \"val\": 0}, {\"col\": \"time\", \"idx\": 1400590800000, \"val\": 0}, {\"col\": \"time\", \"idx\": 1400598000000, \"val\": 0}, {\"col\": \"time\", \"idx\": 1400605200000, \"val\": 0}, {\"col\": \"time\", \"idx\": 1400612400000, \"val\": 0}, {\"col\": \"time\", \"idx\": 1400619600000, \"val\": 0}, {\"col\": \"time\", \"idx\": 1400626800000, \"val\": 0}, {\"col\": \"time\", \"idx\": 1400634000000, \"val\": 0}, {\"col\": \"time\", \"idx\": 1400641200000, \"val\": 0}, {\"col\": \"time\", \"idx\": 1400648400000, \"val\": 0}, {\"col\": \"time\", \"idx\": 1400655600000, \"val\": 0}, {\"col\": \"time\", \"idx\": 1400662800000, \"val\": 0}, {\"col\": \"time\", \"idx\": 1400670000000, \"val\": 0}, {\"col\": \"time\", \"idx\": 1400677200000, \"val\": 0}, {\"col\": \"time\", \"idx\": 1400684400000, \"val\": 0}, {\"col\": \"time\", \"idx\": 1400691600000, \"val\": 0}, {\"col\": \"time\", \"idx\": 1400698800000, \"val\": 0}, {\"col\": \"time\", \"idx\": 1400706000000, \"val\": 0}, {\"col\": \"time\", \"idx\": 1400713200000, \"val\": 0}, {\"col\": \"time\", \"idx\": 1400720400000, \"val\": 0}, {\"col\": \"time\", \"idx\": 1400727600000, \"val\": 0}, {\"col\": \"time\", \"idx\": 1400734800000, \"val\": 0}, {\"col\": \"time\", \"idx\": 1400742000000, \"val\": 0}, {\"col\": \"time\", \"idx\": 1400749200000, \"val\": 0}, {\"col\": \"time\", \"idx\": 1400756400000, \"val\": 0}, {\"col\": \"time\", \"idx\": 1400763600000, \"val\": 0}, {\"col\": \"time\", \"idx\": 1400770800000, \"val\": 36}, {\"col\": \"time\", \"idx\": 1400778000000, \"val\": 99}, {\"col\": \"time\", \"idx\": 1400785200000, \"val\": 9}, {\"col\": \"time\", \"idx\": 1400792400000, \"val\": 19}, {\"col\": \"time\", \"idx\": 1400799600000, \"val\": 0}, {\"col\": \"time\", \"idx\": 1400806800000, \"val\": 18}, {\"col\": \"time\", \"idx\": 1400814000000, \"val\": 28}, {\"col\": \"time\", \"idx\": 1400821200000, \"val\": 0}, {\"col\": \"time\", \"idx\": 1400828400000, \"val\": 0}, {\"col\": \"time\", \"idx\": 1400835600000, \"val\": 9}, {\"col\": \"time\", \"idx\": 1400842800000, \"val\": 0}, {\"col\": \"time\", \"idx\": 1400850000000, \"val\": 63}, {\"col\": \"time\", \"idx\": 1400857200000, \"val\": 0}, {\"col\": \"time\", \"idx\": 1400864400000, \"val\": 7}, {\"col\": \"time\", \"idx\": 1400871600000, \"val\": 107}, {\"col\": \"time\", \"idx\": 1400878800000, \"val\": 25}, {\"col\": \"time\", \"idx\": 1400886000000, \"val\": 8}, {\"col\": \"time\", \"idx\": 1400893200000, \"val\": 12}, {\"col\": \"time\", \"idx\": 1400900400000, \"val\": 0}, {\"col\": \"time\", \"idx\": 1400907600000, \"val\": 0}, {\"col\": \"time\", \"idx\": 1400914800000, \"val\": 0}, {\"col\": \"time\", \"idx\": 1400922000000, \"val\": 0}, {\"col\": \"time\", \"idx\": 1400929200000, \"val\": 4}, {\"col\": \"time\", \"idx\": 1400936400000, \"val\": 3}, {\"col\": \"time\", \"idx\": 1400943600000, \"val\": 6}, {\"col\": \"time\", \"idx\": 1400950800000, \"val\": 10}, {\"col\": \"time\", \"idx\": 1400958000000, \"val\": 3}, {\"col\": \"time\", \"idx\": 1400965200000, \"val\": 5}, {\"col\": \"time\", \"idx\": 1400972400000, \"val\": 7}, {\"col\": \"time\", \"idx\": 1400979600000, \"val\": 0}, {\"col\": \"time\", \"idx\": 1400986800000, \"val\": 2}, {\"col\": \"time\", \"idx\": 1400994000000, \"val\": 0}, {\"col\": \"time\", \"idx\": 1401001200000, \"val\": 0}, {\"col\": \"time\", \"idx\": 1401008400000, \"val\": 0}, {\"col\": \"time\", \"idx\": 1401015600000, \"val\": 2}, {\"col\": \"time\", \"idx\": 1401022800000, \"val\": 6}, {\"col\": \"time\", \"idx\": 1401030000000, \"val\": 10}, {\"col\": \"time\", \"idx\": 1401037200000, \"val\": 12}, {\"col\": \"time\", \"idx\": 1401044400000, \"val\": 5}, {\"col\": \"time\", \"idx\": 1401051600000, \"val\": 25}, {\"col\": \"time\", \"idx\": 1401058800000, \"val\": 7}, {\"col\": \"time\", \"idx\": 1401066000000, \"val\": 0}, {\"col\": \"time\", \"idx\": 1401073200000, \"val\": 1}, {\"col\": \"time\", \"idx\": 1401080400000, \"val\": 1}, {\"col\": \"time\", \"idx\": 1401087600000, \"val\": 1}, {\"col\": \"time\", \"idx\": 1401094800000, \"val\": 0}, {\"col\": \"time\", \"idx\": 1401102000000, \"val\": 1}, {\"col\": \"time\", \"idx\": 1401109200000, \"val\": 17}, {\"col\": \"time\", \"idx\": 1401116400000, \"val\": 13}, {\"col\": \"time\", \"idx\": 1401123600000, \"val\": 1}]}, {\"name\": \"stats\", \"source\": \"table\", \"transform\": [{\"keys\": [\"data.idx\"], \"type\": \"facet\"}, {\"type\": \"stats\", \"value\": \"data.val\"}]}], \"height\": 500, \"legends\": [{\"fill\": \"color\", \"offset\": 0, \"properties\": {}, \"title\": \"RSA14: @lndgrn mentions\"}], \"marks\": [{\"from\": {\"data\": \"table\", \"transform\": [{\"keys\": [\"data.col\"], \"type\": \"facet\"}, {\"height\": \"data.val\", \"point\": \"data.idx\", \"type\": \"stack\"}]}, \"marks\": [{\"properties\": {\"enter\": {\"fill\": {\"field\": \"data.col\", \"scale\": \"color\"}, \"interpolate\": {\"value\": \"monotone\"}, \"x\": {\"field\": \"data.idx\", \"scale\": \"x\"}, \"y\": {\"field\": \"y\", \"scale\": \"y\"}, \"y2\": {\"field\": \"y2\", \"scale\": \"y\"}}}, \"type\": \"area\"}], \"type\": \"group\"}], \"padding\": \"auto\", \"scales\": [{\"domain\": {\"data\": \"table\", \"field\": \"data.idx\"}, \"name\": \"x\", \"range\": \"width\", \"type\": \"time\", \"zero\": false}, {\"domain\": {\"data\": \"stats\", \"field\": \"sum\"}, \"name\": \"y\", \"nice\": true, \"range\": \"height\"}, {\"domain\": {\"data\": \"table\", \"field\": \"data.col\"}, \"name\": \"color\", \"range\": [\"#9e0142\", \"#d53e4f\", \"#f46d43\", \"#fdae61\", \"#fee08b\", \"#ffffbf\", \"#e6f598\", \"#abdda4\", \"#66c2a5\", \"#3288bd\", \"#5e4fa2\"], \"type\": \"ordinal\"}], \"width\": 960}, function(chart) {\n",
        "         chart({el: \"#visa542ad58c7384dafb6b73219881bf580\"}).update();\n",
        "       });\n",
        "     };\n",
        "     _do_plot();\n",
        "   })();\n",
        "</script>\n",
        "<style>.vega canvas {width: 100%;}</style>\n",
        "        "
       ],
       "metadata": {},
       "output_type": "display_data",
       "text": [
        "<IPython.core.display.HTML at 0x428e450>"
       ]
      }
     ],
     "prompt_number": 37
    },
    {
     "cell_type": "code",
     "collapsed": false,
     "input": [
      "print rsa_kw60m"
     ],
     "language": "python",
     "metadata": {},
     "outputs": [
      {
       "output_type": "stream",
       "stream": "stdout",
       "text": [
        "2014-05-07 07:00:00    5\n",
        "2014-05-07 08:00:00    6\n",
        "2014-05-07 09:00:00    2\n",
        "2014-05-07 10:00:00    0\n",
        "2014-05-07 11:00:00    0\n",
        "2014-05-07 12:00:00    1\n",
        "2014-05-07 13:00:00    0\n",
        "2014-05-07 14:00:00    1\n",
        "2014-05-07 15:00:00    0\n",
        "2014-05-07 16:00:00    0\n",
        "2014-05-07 17:00:00    1\n",
        "2014-05-07 18:00:00    2\n",
        "2014-05-07 19:00:00    0\n",
        "2014-05-07 20:00:00    0\n",
        "2014-05-07 21:00:00    1\n",
        "...\n",
        "2014-05-25 22:00:00     1\n",
        "2014-05-25 23:00:00     0\n",
        "2014-05-26 00:00:00     1\n",
        "2014-05-26 01:00:00     0\n",
        "2014-05-26 02:00:00     0\n",
        "2014-05-26 03:00:00     1\n",
        "2014-05-26 04:00:00     0\n",
        "2014-05-26 05:00:00     0\n",
        "2014-05-26 06:00:00     1\n",
        "2014-05-26 07:00:00     0\n",
        "2014-05-26 08:00:00    17\n",
        "2014-05-26 09:00:00     0\n",
        "2014-05-26 10:00:00    13\n",
        "2014-05-26 11:00:00     0\n",
        "2014-05-26 12:00:00     1\n",
        "Name: time, Length: 462\n"
       ]
      }
     ],
     "prompt_number": 15
    },
    {
     "cell_type": "code",
     "collapsed": false,
     "input": [
      "scatter = vincent.Scatter(rsa_kw60m)\n",
      "scatter.axis_titles(x='Time', y='count')\n",
      "scatter.legend(title='Count')\n",
      "scatter.colors(brew='Set1')\n",
      "scatter"
     ],
     "language": "python",
     "metadata": {},
     "outputs": [
      {
       "html": [
        "<div id=\"vis862ab799c1144618a2c137fac873af8a\"></div>\n",
        "<script>\n",
        "   ( function() {\n",
        "     var _do_plot = function() {\n",
        "       if (typeof vg === 'undefined') {\n",
        "         window.addEventListener('vincent_libs_loaded', _do_plot)\n",
        "         return;\n",
        "       }\n",
        "       vg.parse.spec({\"axes\": [{\"scale\": \"x\", \"title\": \"Time\", \"type\": \"x\"}, {\"scale\": \"y\", \"title\": \"count\", \"type\": \"y\"}], \"data\": [{\"name\": \"table\", \"values\": [{\"col\": \"time\", \"idx\": 1399464000000, \"val\": 5}, {\"col\": \"time\", \"idx\": 1399467600000, \"val\": 6}, {\"col\": \"time\", \"idx\": 1399471200000, \"val\": 2}, {\"col\": \"time\", \"idx\": 1399474800000, \"val\": 0}, {\"col\": \"time\", \"idx\": 1399478400000, \"val\": 0}, {\"col\": \"time\", \"idx\": 1399482000000, \"val\": 1}, {\"col\": \"time\", \"idx\": 1399485600000, \"val\": 0}, {\"col\": \"time\", \"idx\": 1399489200000, \"val\": 1}, {\"col\": \"time\", \"idx\": 1399492800000, \"val\": 0}, {\"col\": \"time\", \"idx\": 1399496400000, \"val\": 0}, {\"col\": \"time\", \"idx\": 1399500000000, \"val\": 1}, {\"col\": \"time\", \"idx\": 1399503600000, \"val\": 2}, {\"col\": \"time\", \"idx\": 1399507200000, \"val\": 0}, {\"col\": \"time\", \"idx\": 1399510800000, \"val\": 0}, {\"col\": \"time\", \"idx\": 1399514400000, \"val\": 1}, {\"col\": \"time\", \"idx\": 1399518000000, \"val\": 0}, {\"col\": \"time\", \"idx\": 1399521600000, \"val\": 0}, {\"col\": \"time\", \"idx\": 1399525200000, \"val\": 0}, {\"col\": \"time\", \"idx\": 1399528800000, \"val\": 0}, {\"col\": \"time\", \"idx\": 1399532400000, \"val\": 0}, {\"col\": \"time\", \"idx\": 1399536000000, \"val\": 0}, {\"col\": \"time\", \"idx\": 1399539600000, \"val\": 0}, {\"col\": \"time\", \"idx\": 1399543200000, \"val\": 0}, {\"col\": \"time\", \"idx\": 1399546800000, \"val\": 0}, {\"col\": \"time\", \"idx\": 1399550400000, \"val\": 0}, {\"col\": \"time\", \"idx\": 1399554000000, \"val\": 0}, {\"col\": \"time\", \"idx\": 1399557600000, \"val\": 0}, {\"col\": \"time\", \"idx\": 1399561200000, \"val\": 0}, {\"col\": \"time\", \"idx\": 1399564800000, \"val\": 0}, {\"col\": \"time\", \"idx\": 1399568400000, \"val\": 0}, {\"col\": \"time\", \"idx\": 1399572000000, \"val\": 0}, {\"col\": \"time\", \"idx\": 1399575600000, \"val\": 2}, {\"col\": \"time\", \"idx\": 1399579200000, \"val\": 0}, {\"col\": \"time\", \"idx\": 1399582800000, \"val\": 0}, {\"col\": \"time\", \"idx\": 1399586400000, \"val\": 0}, {\"col\": \"time\", \"idx\": 1399590000000, \"val\": 0}, {\"col\": \"time\", \"idx\": 1399593600000, \"val\": 0}, {\"col\": \"time\", \"idx\": 1399597200000, \"val\": 0}, {\"col\": \"time\", \"idx\": 1399600800000, \"val\": 0}, {\"col\": \"time\", \"idx\": 1399604400000, \"val\": 0}, {\"col\": \"time\", \"idx\": 1399608000000, \"val\": 0}, {\"col\": \"time\", \"idx\": 1399611600000, \"val\": 0}, {\"col\": \"time\", \"idx\": 1399615200000, \"val\": 0}, {\"col\": \"time\", \"idx\": 1399618800000, \"val\": 0}, {\"col\": \"time\", \"idx\": 1399622400000, \"val\": 0}, {\"col\": \"time\", \"idx\": 1399626000000, \"val\": 0}, {\"col\": \"time\", \"idx\": 1399629600000, \"val\": 0}, {\"col\": \"time\", \"idx\": 1399633200000, \"val\": 0}, {\"col\": \"time\", \"idx\": 1399636800000, \"val\": 0}, {\"col\": \"time\", \"idx\": 1399640400000, \"val\": 0}, {\"col\": \"time\", \"idx\": 1399644000000, \"val\": 0}, {\"col\": \"time\", \"idx\": 1399647600000, \"val\": 0}, {\"col\": \"time\", \"idx\": 1399651200000, \"val\": 0}, {\"col\": \"time\", \"idx\": 1399654800000, \"val\": 0}, {\"col\": \"time\", \"idx\": 1399658400000, \"val\": 0}, {\"col\": \"time\", \"idx\": 1399662000000, \"val\": 0}, {\"col\": \"time\", \"idx\": 1399665600000, \"val\": 0}, {\"col\": \"time\", \"idx\": 1399669200000, \"val\": 6}, {\"col\": \"time\", \"idx\": 1399672800000, \"val\": 0}, {\"col\": \"time\", \"idx\": 1399676400000, \"val\": 0}, {\"col\": \"time\", \"idx\": 1399680000000, \"val\": 0}, {\"col\": \"time\", \"idx\": 1399683600000, \"val\": 0}, {\"col\": \"time\", \"idx\": 1399687200000, \"val\": 0}, {\"col\": \"time\", \"idx\": 1399690800000, \"val\": 0}, {\"col\": \"time\", \"idx\": 1399694400000, \"val\": 0}, {\"col\": \"time\", \"idx\": 1399698000000, \"val\": 0}, {\"col\": \"time\", \"idx\": 1399701600000, \"val\": 0}, {\"col\": \"time\", \"idx\": 1399705200000, \"val\": 0}, {\"col\": \"time\", \"idx\": 1399708800000, \"val\": 0}, {\"col\": \"time\", \"idx\": 1399712400000, \"val\": 0}, {\"col\": \"time\", \"idx\": 1399716000000, \"val\": 0}, {\"col\": \"time\", \"idx\": 1399719600000, \"val\": 0}, {\"col\": \"time\", \"idx\": 1399723200000, \"val\": 0}, {\"col\": \"time\", \"idx\": 1399726800000, \"val\": 0}, {\"col\": \"time\", \"idx\": 1399730400000, \"val\": 0}, {\"col\": \"time\", \"idx\": 1399734000000, \"val\": 0}, {\"col\": \"time\", \"idx\": 1399737600000, \"val\": 0}, {\"col\": \"time\", \"idx\": 1399741200000, \"val\": 0}, {\"col\": \"time\", \"idx\": 1399744800000, \"val\": 0}, {\"col\": \"time\", \"idx\": 1399748400000, \"val\": 0}, {\"col\": \"time\", \"idx\": 1399752000000, \"val\": 0}, {\"col\": \"time\", \"idx\": 1399755600000, \"val\": 0}, {\"col\": \"time\", \"idx\": 1399759200000, \"val\": 0}, {\"col\": \"time\", \"idx\": 1399762800000, \"val\": 0}, {\"col\": \"time\", \"idx\": 1399766400000, \"val\": 0}, {\"col\": \"time\", \"idx\": 1399770000000, \"val\": 0}, {\"col\": \"time\", \"idx\": 1399773600000, \"val\": 0}, {\"col\": \"time\", \"idx\": 1399777200000, \"val\": 0}, {\"col\": \"time\", \"idx\": 1399780800000, \"val\": 0}, {\"col\": \"time\", \"idx\": 1399784400000, \"val\": 0}, {\"col\": \"time\", \"idx\": 1399788000000, \"val\": 0}, {\"col\": \"time\", \"idx\": 1399791600000, \"val\": 0}, {\"col\": \"time\", \"idx\": 1399795200000, \"val\": 0}, {\"col\": \"time\", \"idx\": 1399798800000, \"val\": 0}, {\"col\": \"time\", \"idx\": 1399802400000, \"val\": 0}, {\"col\": \"time\", \"idx\": 1399806000000, \"val\": 0}, {\"col\": \"time\", \"idx\": 1399809600000, \"val\": 0}, {\"col\": \"time\", \"idx\": 1399813200000, \"val\": 0}, {\"col\": \"time\", \"idx\": 1399816800000, \"val\": 0}, {\"col\": \"time\", \"idx\": 1399820400000, \"val\": 0}, {\"col\": \"time\", \"idx\": 1399824000000, \"val\": 0}, {\"col\": \"time\", \"idx\": 1399827600000, \"val\": 0}, {\"col\": \"time\", \"idx\": 1399831200000, \"val\": 0}, {\"col\": \"time\", \"idx\": 1399834800000, \"val\": 0}, {\"col\": \"time\", \"idx\": 1399838400000, \"val\": 0}, {\"col\": \"time\", \"idx\": 1399842000000, \"val\": 0}, {\"col\": \"time\", \"idx\": 1399845600000, \"val\": 0}, {\"col\": \"time\", \"idx\": 1399849200000, \"val\": 0}, {\"col\": \"time\", \"idx\": 1399852800000, \"val\": 3}, {\"col\": \"time\", \"idx\": 1399856400000, \"val\": 0}, {\"col\": \"time\", \"idx\": 1399860000000, \"val\": 2}, {\"col\": \"time\", \"idx\": 1399863600000, \"val\": 0}, {\"col\": \"time\", \"idx\": 1399867200000, \"val\": 0}, {\"col\": \"time\", \"idx\": 1399870800000, \"val\": 2}, {\"col\": \"time\", \"idx\": 1399874400000, \"val\": 0}, {\"col\": \"time\", \"idx\": 1399878000000, \"val\": 0}, {\"col\": \"time\", \"idx\": 1399881600000, \"val\": 0}, {\"col\": \"time\", \"idx\": 1399885200000, \"val\": 0}, {\"col\": \"time\", \"idx\": 1399888800000, \"val\": 0}, {\"col\": \"time\", \"idx\": 1399892400000, \"val\": 0}, {\"col\": \"time\", \"idx\": 1399896000000, \"val\": 0}, {\"col\": \"time\", \"idx\": 1399899600000, \"val\": 0}, {\"col\": \"time\", \"idx\": 1399903200000, \"val\": 0}, {\"col\": \"time\", \"idx\": 1399906800000, \"val\": 0}, {\"col\": \"time\", \"idx\": 1399910400000, \"val\": 0}, {\"col\": \"time\", \"idx\": 1399914000000, \"val\": 0}, {\"col\": \"time\", \"idx\": 1399917600000, \"val\": 0}, {\"col\": \"time\", \"idx\": 1399921200000, \"val\": 0}, {\"col\": \"time\", \"idx\": 1399924800000, \"val\": 0}, {\"col\": \"time\", \"idx\": 1399928400000, \"val\": 0}, {\"col\": \"time\", \"idx\": 1399932000000, \"val\": 0}, {\"col\": \"time\", \"idx\": 1399935600000, \"val\": 2}, {\"col\": \"time\", \"idx\": 1399939200000, \"val\": 2}, {\"col\": \"time\", \"idx\": 1399942800000, \"val\": 0}, {\"col\": \"time\", \"idx\": 1399946400000, \"val\": 0}, {\"col\": \"time\", \"idx\": 1399950000000, \"val\": 0}, {\"col\": \"time\", \"idx\": 1399953600000, \"val\": 0}, {\"col\": \"time\", \"idx\": 1399957200000, \"val\": 0}, {\"col\": \"time\", \"idx\": 1399960800000, \"val\": 0}, {\"col\": \"time\", \"idx\": 1399964400000, \"val\": 0}, {\"col\": \"time\", \"idx\": 1399968000000, \"val\": 0}, {\"col\": \"time\", \"idx\": 1399971600000, \"val\": 0}, {\"col\": \"time\", \"idx\": 1399975200000, \"val\": 0}, {\"col\": \"time\", \"idx\": 1399978800000, \"val\": 0}, {\"col\": \"time\", \"idx\": 1399982400000, \"val\": 0}, {\"col\": \"time\", \"idx\": 1399986000000, \"val\": 0}, {\"col\": \"time\", \"idx\": 1399989600000, \"val\": 0}, {\"col\": \"time\", \"idx\": 1399993200000, \"val\": 0}, {\"col\": \"time\", \"idx\": 1399996800000, \"val\": 0}, {\"col\": \"time\", \"idx\": 1400000400000, \"val\": 0}, {\"col\": \"time\", \"idx\": 1400004000000, \"val\": 0}, {\"col\": \"time\", \"idx\": 1400007600000, \"val\": 0}, {\"col\": \"time\", \"idx\": 1400011200000, \"val\": 0}, {\"col\": \"time\", \"idx\": 1400014800000, \"val\": 0}, {\"col\": \"time\", \"idx\": 1400018400000, \"val\": 0}, {\"col\": \"time\", \"idx\": 1400022000000, \"val\": 0}, {\"col\": \"time\", \"idx\": 1400025600000, \"val\": 0}, {\"col\": \"time\", \"idx\": 1400029200000, \"val\": 0}, {\"col\": \"time\", \"idx\": 1400032800000, \"val\": 0}, {\"col\": \"time\", \"idx\": 1400036400000, \"val\": 0}, {\"col\": \"time\", \"idx\": 1400040000000, \"val\": 0}, {\"col\": \"time\", \"idx\": 1400043600000, \"val\": 0}, {\"col\": \"time\", \"idx\": 1400047200000, \"val\": 0}, {\"col\": \"time\", \"idx\": 1400050800000, \"val\": 0}, {\"col\": \"time\", \"idx\": 1400054400000, \"val\": 0}, {\"col\": \"time\", \"idx\": 1400058000000, \"val\": 0}, {\"col\": \"time\", \"idx\": 1400061600000, \"val\": 0}, {\"col\": \"time\", \"idx\": 1400065200000, \"val\": 0}, {\"col\": \"time\", \"idx\": 1400068800000, \"val\": 0}, {\"col\": \"time\", \"idx\": 1400072400000, \"val\": 0}, {\"col\": \"time\", \"idx\": 1400076000000, \"val\": 0}, {\"col\": \"time\", \"idx\": 1400079600000, \"val\": 0}, {\"col\": \"time\", \"idx\": 1400083200000, \"val\": 0}, {\"col\": \"time\", \"idx\": 1400086800000, \"val\": 0}, {\"col\": \"time\", \"idx\": 1400090400000, \"val\": 0}, {\"col\": \"time\", \"idx\": 1400094000000, \"val\": 0}, {\"col\": \"time\", \"idx\": 1400097600000, \"val\": 0}, {\"col\": \"time\", \"idx\": 1400101200000, \"val\": 0}, {\"col\": \"time\", \"idx\": 1400104800000, \"val\": 0}, {\"col\": \"time\", \"idx\": 1400108400000, \"val\": 0}, {\"col\": \"time\", \"idx\": 1400112000000, \"val\": 0}, {\"col\": \"time\", \"idx\": 1400115600000, \"val\": 0}, {\"col\": \"time\", \"idx\": 1400119200000, \"val\": 0}, {\"col\": \"time\", \"idx\": 1400122800000, \"val\": 0}, {\"col\": \"time\", \"idx\": 1400126400000, \"val\": 0}, {\"col\": \"time\", \"idx\": 1400130000000, \"val\": 0}, {\"col\": \"time\", \"idx\": 1400133600000, \"val\": 0}, {\"col\": \"time\", \"idx\": 1400137200000, \"val\": 0}, {\"col\": \"time\", \"idx\": 1400140800000, \"val\": 0}, {\"col\": \"time\", \"idx\": 1400144400000, \"val\": 0}, {\"col\": \"time\", \"idx\": 1400148000000, \"val\": 0}, {\"col\": \"time\", \"idx\": 1400151600000, \"val\": 0}, {\"col\": \"time\", \"idx\": 1400155200000, \"val\": 0}, {\"col\": \"time\", \"idx\": 1400158800000, \"val\": 0}, {\"col\": \"time\", \"idx\": 1400162400000, \"val\": 0}, {\"col\": \"time\", \"idx\": 1400166000000, \"val\": 0}, {\"col\": \"time\", \"idx\": 1400169600000, \"val\": 0}, {\"col\": \"time\", \"idx\": 1400173200000, \"val\": 0}, {\"col\": \"time\", \"idx\": 1400176800000, \"val\": 0}, {\"col\": \"time\", \"idx\": 1400180400000, \"val\": 0}, {\"col\": \"time\", \"idx\": 1400184000000, \"val\": 0}, {\"col\": \"time\", \"idx\": 1400187600000, \"val\": 0}, {\"col\": \"time\", \"idx\": 1400191200000, \"val\": 0}, {\"col\": \"time\", \"idx\": 1400194800000, \"val\": 0}, {\"col\": \"time\", \"idx\": 1400198400000, \"val\": 0}, {\"col\": \"time\", \"idx\": 1400202000000, \"val\": 0}, {\"col\": \"time\", \"idx\": 1400205600000, \"val\": 0}, {\"col\": \"time\", \"idx\": 1400209200000, \"val\": 0}, {\"col\": \"time\", \"idx\": 1400212800000, \"val\": 0}, {\"col\": \"time\", \"idx\": 1400216400000, \"val\": 0}, {\"col\": \"time\", \"idx\": 1400220000000, \"val\": 0}, {\"col\": \"time\", \"idx\": 1400223600000, \"val\": 0}, {\"col\": \"time\", \"idx\": 1400227200000, \"val\": 0}, {\"col\": \"time\", \"idx\": 1400230800000, \"val\": 0}, {\"col\": \"time\", \"idx\": 1400234400000, \"val\": 0}, {\"col\": \"time\", \"idx\": 1400238000000, \"val\": 0}, {\"col\": \"time\", \"idx\": 1400241600000, \"val\": 0}, {\"col\": \"time\", \"idx\": 1400245200000, \"val\": 0}, {\"col\": \"time\", \"idx\": 1400248800000, \"val\": 0}, {\"col\": \"time\", \"idx\": 1400252400000, \"val\": 0}, {\"col\": \"time\", \"idx\": 1400256000000, \"val\": 0}, {\"col\": \"time\", \"idx\": 1400259600000, \"val\": 0}, {\"col\": \"time\", \"idx\": 1400263200000, \"val\": 0}, {\"col\": \"time\", \"idx\": 1400266800000, \"val\": 0}, {\"col\": \"time\", \"idx\": 1400270400000, \"val\": 0}, {\"col\": \"time\", \"idx\": 1400274000000, \"val\": 0}, {\"col\": \"time\", \"idx\": 1400277600000, \"val\": 0}, {\"col\": \"time\", \"idx\": 1400281200000, \"val\": 0}, {\"col\": \"time\", \"idx\": 1400284800000, \"val\": 0}, {\"col\": \"time\", \"idx\": 1400288400000, \"val\": 0}, {\"col\": \"time\", \"idx\": 1400292000000, \"val\": 0}, {\"col\": \"time\", \"idx\": 1400295600000, \"val\": 0}, {\"col\": \"time\", \"idx\": 1400299200000, \"val\": 0}, {\"col\": \"time\", \"idx\": 1400302800000, \"val\": 0}, {\"col\": \"time\", \"idx\": 1400306400000, \"val\": 0}, {\"col\": \"time\", \"idx\": 1400310000000, \"val\": 0}, {\"col\": \"time\", \"idx\": 1400313600000, \"val\": 0}, {\"col\": \"time\", \"idx\": 1400317200000, \"val\": 0}, {\"col\": \"time\", \"idx\": 1400320800000, \"val\": 0}, {\"col\": \"time\", \"idx\": 1400324400000, \"val\": 0}, {\"col\": \"time\", \"idx\": 1400328000000, \"val\": 0}, {\"col\": \"time\", \"idx\": 1400331600000, \"val\": 0}, {\"col\": \"time\", \"idx\": 1400335200000, \"val\": 0}, {\"col\": \"time\", \"idx\": 1400338800000, \"val\": 0}, {\"col\": \"time\", \"idx\": 1400342400000, \"val\": 0}, {\"col\": \"time\", \"idx\": 1400346000000, \"val\": 0}, {\"col\": \"time\", \"idx\": 1400349600000, \"val\": 0}, {\"col\": \"time\", \"idx\": 1400353200000, \"val\": 0}, {\"col\": \"time\", \"idx\": 1400356800000, \"val\": 0}, {\"col\": \"time\", \"idx\": 1400360400000, \"val\": 0}, {\"col\": \"time\", \"idx\": 1400364000000, \"val\": 0}, {\"col\": \"time\", \"idx\": 1400367600000, \"val\": 0}, {\"col\": \"time\", \"idx\": 1400371200000, \"val\": 0}, {\"col\": \"time\", \"idx\": 1400374800000, \"val\": 0}, {\"col\": \"time\", \"idx\": 1400378400000, \"val\": 0}, {\"col\": \"time\", \"idx\": 1400382000000, \"val\": 0}, {\"col\": \"time\", \"idx\": 1400385600000, \"val\": 0}, {\"col\": \"time\", \"idx\": 1400389200000, \"val\": 0}, {\"col\": \"time\", \"idx\": 1400392800000, \"val\": 0}, {\"col\": \"time\", \"idx\": 1400396400000, \"val\": 0}, {\"col\": \"time\", \"idx\": 1400400000000, \"val\": 0}, {\"col\": \"time\", \"idx\": 1400403600000, \"val\": 0}, {\"col\": \"time\", \"idx\": 1400407200000, \"val\": 0}, {\"col\": \"time\", \"idx\": 1400410800000, \"val\": 0}, {\"col\": \"time\", \"idx\": 1400414400000, \"val\": 0}, {\"col\": \"time\", \"idx\": 1400418000000, \"val\": 0}, {\"col\": \"time\", \"idx\": 1400421600000, \"val\": 0}, {\"col\": \"time\", \"idx\": 1400425200000, \"val\": 0}, {\"col\": \"time\", \"idx\": 1400428800000, \"val\": 0}, {\"col\": \"time\", \"idx\": 1400432400000, \"val\": 0}, {\"col\": \"time\", \"idx\": 1400436000000, \"val\": 0}, {\"col\": \"time\", \"idx\": 1400439600000, \"val\": 0}, {\"col\": \"time\", \"idx\": 1400443200000, \"val\": 0}, {\"col\": \"time\", \"idx\": 1400446800000, \"val\": 0}, {\"col\": \"time\", \"idx\": 1400450400000, \"val\": 0}, {\"col\": \"time\", \"idx\": 1400454000000, \"val\": 0}, {\"col\": \"time\", \"idx\": 1400457600000, \"val\": 6}, {\"col\": \"time\", \"idx\": 1400461200000, \"val\": 0}, {\"col\": \"time\", \"idx\": 1400464800000, \"val\": 0}, {\"col\": \"time\", \"idx\": 1400468400000, \"val\": 0}, {\"col\": \"time\", \"idx\": 1400472000000, \"val\": 0}, {\"col\": \"time\", \"idx\": 1400475600000, \"val\": 0}, {\"col\": \"time\", \"idx\": 1400479200000, \"val\": 0}, {\"col\": \"time\", \"idx\": 1400482800000, \"val\": 0}, {\"col\": \"time\", \"idx\": 1400486400000, \"val\": 0}, {\"col\": \"time\", \"idx\": 1400490000000, \"val\": 0}, {\"col\": \"time\", \"idx\": 1400493600000, \"val\": 0}, {\"col\": \"time\", \"idx\": 1400497200000, \"val\": 0}, {\"col\": \"time\", \"idx\": 1400500800000, \"val\": 0}, {\"col\": \"time\", \"idx\": 1400504400000, \"val\": 0}, {\"col\": \"time\", \"idx\": 1400508000000, \"val\": 0}, {\"col\": \"time\", \"idx\": 1400511600000, \"val\": 0}, {\"col\": \"time\", \"idx\": 1400515200000, \"val\": 0}, {\"col\": \"time\", \"idx\": 1400518800000, \"val\": 0}, {\"col\": \"time\", \"idx\": 1400522400000, \"val\": 0}, {\"col\": \"time\", \"idx\": 1400526000000, \"val\": 0}, {\"col\": \"time\", \"idx\": 1400529600000, \"val\": 0}, {\"col\": \"time\", \"idx\": 1400533200000, \"val\": 0}, {\"col\": \"time\", \"idx\": 1400536800000, \"val\": 0}, {\"col\": \"time\", \"idx\": 1400540400000, \"val\": 0}, {\"col\": \"time\", \"idx\": 1400544000000, \"val\": 0}, {\"col\": \"time\", \"idx\": 1400547600000, \"val\": 0}, {\"col\": \"time\", \"idx\": 1400551200000, \"val\": 0}, {\"col\": \"time\", \"idx\": 1400554800000, \"val\": 0}, {\"col\": \"time\", \"idx\": 1400558400000, \"val\": 0}, {\"col\": \"time\", \"idx\": 1400562000000, \"val\": 0}, {\"col\": \"time\", \"idx\": 1400565600000, \"val\": 0}, {\"col\": \"time\", \"idx\": 1400569200000, \"val\": 0}, {\"col\": \"time\", \"idx\": 1400572800000, \"val\": 0}, {\"col\": \"time\", \"idx\": 1400576400000, \"val\": 0}, {\"col\": \"time\", \"idx\": 1400580000000, \"val\": 0}, {\"col\": \"time\", \"idx\": 1400583600000, \"val\": 0}, {\"col\": \"time\", \"idx\": 1400587200000, \"val\": 0}, {\"col\": \"time\", \"idx\": 1400590800000, \"val\": 0}, {\"col\": \"time\", \"idx\": 1400594400000, \"val\": 0}, {\"col\": \"time\", \"idx\": 1400598000000, \"val\": 0}, {\"col\": \"time\", \"idx\": 1400601600000, \"val\": 0}, {\"col\": \"time\", \"idx\": 1400605200000, \"val\": 0}, {\"col\": \"time\", \"idx\": 1400608800000, \"val\": 0}, {\"col\": \"time\", \"idx\": 1400612400000, \"val\": 0}, {\"col\": \"time\", \"idx\": 1400616000000, \"val\": 0}, {\"col\": \"time\", \"idx\": 1400619600000, \"val\": 0}, {\"col\": \"time\", \"idx\": 1400623200000, \"val\": 0}, {\"col\": \"time\", \"idx\": 1400626800000, \"val\": 0}, {\"col\": \"time\", \"idx\": 1400630400000, \"val\": 0}, {\"col\": \"time\", \"idx\": 1400634000000, \"val\": 0}, {\"col\": \"time\", \"idx\": 1400637600000, \"val\": 0}, {\"col\": \"time\", \"idx\": 1400641200000, \"val\": 0}, {\"col\": \"time\", \"idx\": 1400644800000, \"val\": 0}, {\"col\": \"time\", \"idx\": 1400648400000, \"val\": 0}, {\"col\": \"time\", \"idx\": 1400652000000, \"val\": 0}, {\"col\": \"time\", \"idx\": 1400655600000, \"val\": 0}, {\"col\": \"time\", \"idx\": 1400659200000, \"val\": 0}, {\"col\": \"time\", \"idx\": 1400662800000, \"val\": 0}, {\"col\": \"time\", \"idx\": 1400666400000, \"val\": 0}, {\"col\": \"time\", \"idx\": 1400670000000, \"val\": 0}, {\"col\": \"time\", \"idx\": 1400673600000, \"val\": 0}, {\"col\": \"time\", \"idx\": 1400677200000, \"val\": 0}, {\"col\": \"time\", \"idx\": 1400680800000, \"val\": 0}, {\"col\": \"time\", \"idx\": 1400684400000, \"val\": 0}, {\"col\": \"time\", \"idx\": 1400688000000, \"val\": 0}, {\"col\": \"time\", \"idx\": 1400691600000, \"val\": 0}, {\"col\": \"time\", \"idx\": 1400695200000, \"val\": 0}, {\"col\": \"time\", \"idx\": 1400698800000, \"val\": 0}, {\"col\": \"time\", \"idx\": 1400702400000, \"val\": 0}, {\"col\": \"time\", \"idx\": 1400706000000, \"val\": 0}, {\"col\": \"time\", \"idx\": 1400709600000, \"val\": 0}, {\"col\": \"time\", \"idx\": 1400713200000, \"val\": 0}, {\"col\": \"time\", \"idx\": 1400716800000, \"val\": 0}, {\"col\": \"time\", \"idx\": 1400720400000, \"val\": 0}, {\"col\": \"time\", \"idx\": 1400724000000, \"val\": 0}, {\"col\": \"time\", \"idx\": 1400727600000, \"val\": 0}, {\"col\": \"time\", \"idx\": 1400731200000, \"val\": 0}, {\"col\": \"time\", \"idx\": 1400734800000, \"val\": 0}, {\"col\": \"time\", \"idx\": 1400738400000, \"val\": 0}, {\"col\": \"time\", \"idx\": 1400742000000, \"val\": 0}, {\"col\": \"time\", \"idx\": 1400745600000, \"val\": 0}, {\"col\": \"time\", \"idx\": 1400749200000, \"val\": 0}, {\"col\": \"time\", \"idx\": 1400752800000, \"val\": 0}, {\"col\": \"time\", \"idx\": 1400756400000, \"val\": 0}, {\"col\": \"time\", \"idx\": 1400760000000, \"val\": 0}, {\"col\": \"time\", \"idx\": 1400763600000, \"val\": 0}, {\"col\": \"time\", \"idx\": 1400767200000, \"val\": 0}, {\"col\": \"time\", \"idx\": 1400770800000, \"val\": 0}, {\"col\": \"time\", \"idx\": 1400774400000, \"val\": 36}, {\"col\": \"time\", \"idx\": 1400778000000, \"val\": 45}, {\"col\": \"time\", \"idx\": 1400781600000, \"val\": 54}, {\"col\": \"time\", \"idx\": 1400785200000, \"val\": 9}, {\"col\": \"time\", \"idx\": 1400788800000, \"val\": 0}, {\"col\": \"time\", \"idx\": 1400792400000, \"val\": 19}, {\"col\": \"time\", \"idx\": 1400796000000, \"val\": 0}, {\"col\": \"time\", \"idx\": 1400799600000, \"val\": 0}, {\"col\": \"time\", \"idx\": 1400803200000, \"val\": 0}, {\"col\": \"time\", \"idx\": 1400806800000, \"val\": 0}, {\"col\": \"time\", \"idx\": 1400810400000, \"val\": 18}, {\"col\": \"time\", \"idx\": 1400814000000, \"val\": 9}, {\"col\": \"time\", \"idx\": 1400817600000, \"val\": 19}, {\"col\": \"time\", \"idx\": 1400821200000, \"val\": 0}, {\"col\": \"time\", \"idx\": 1400824800000, \"val\": 0}, {\"col\": \"time\", \"idx\": 1400828400000, \"val\": 0}, {\"col\": \"time\", \"idx\": 1400832000000, \"val\": 0}, {\"col\": \"time\", \"idx\": 1400835600000, \"val\": 0}, {\"col\": \"time\", \"idx\": 1400839200000, \"val\": 9}, {\"col\": \"time\", \"idx\": 1400842800000, \"val\": 0}, {\"col\": \"time\", \"idx\": 1400846400000, \"val\": 0}, {\"col\": \"time\", \"idx\": 1400850000000, \"val\": 55}, {\"col\": \"time\", \"idx\": 1400853600000, \"val\": 8}, {\"col\": \"time\", \"idx\": 1400857200000, \"val\": 0}, {\"col\": \"time\", \"idx\": 1400860800000, \"val\": 0}, {\"col\": \"time\", \"idx\": 1400864400000, \"val\": 0}, {\"col\": \"time\", \"idx\": 1400868000000, \"val\": 7}, {\"col\": \"time\", \"idx\": 1400871600000, \"val\": 54}, {\"col\": \"time\", \"idx\": 1400875200000, \"val\": 53}, {\"col\": \"time\", \"idx\": 1400878800000, \"val\": 9}, {\"col\": \"time\", \"idx\": 1400882400000, \"val\": 16}, {\"col\": \"time\", \"idx\": 1400886000000, \"val\": 8}, {\"col\": \"time\", \"idx\": 1400889600000, \"val\": 0}, {\"col\": \"time\", \"idx\": 1400893200000, \"val\": 0}, {\"col\": \"time\", \"idx\": 1400896800000, \"val\": 12}, {\"col\": \"time\", \"idx\": 1400900400000, \"val\": 0}, {\"col\": \"time\", \"idx\": 1400904000000, \"val\": 0}, {\"col\": \"time\", \"idx\": 1400907600000, \"val\": 0}, {\"col\": \"time\", \"idx\": 1400911200000, \"val\": 0}, {\"col\": \"time\", \"idx\": 1400914800000, \"val\": 0}, {\"col\": \"time\", \"idx\": 1400918400000, \"val\": 0}, {\"col\": \"time\", \"idx\": 1400922000000, \"val\": 0}, {\"col\": \"time\", \"idx\": 1400925600000, \"val\": 0}, {\"col\": \"time\", \"idx\": 1400929200000, \"val\": 4}, {\"col\": \"time\", \"idx\": 1400932800000, \"val\": 0}, {\"col\": \"time\", \"idx\": 1400936400000, \"val\": 3}, {\"col\": \"time\", \"idx\": 1400940000000, \"val\": 0}, {\"col\": \"time\", \"idx\": 1400943600000, \"val\": 2}, {\"col\": \"time\", \"idx\": 1400947200000, \"val\": 4}, {\"col\": \"time\", \"idx\": 1400950800000, \"val\": 10}, {\"col\": \"time\", \"idx\": 1400954400000, \"val\": 0}, {\"col\": \"time\", \"idx\": 1400958000000, \"val\": 2}, {\"col\": \"time\", \"idx\": 1400961600000, \"val\": 1}, {\"col\": \"time\", \"idx\": 1400965200000, \"val\": 2}, {\"col\": \"time\", \"idx\": 1400968800000, \"val\": 3}, {\"col\": \"time\", \"idx\": 1400972400000, \"val\": 6}, {\"col\": \"time\", \"idx\": 1400976000000, \"val\": 1}, {\"col\": \"time\", \"idx\": 1400979600000, \"val\": 0}, {\"col\": \"time\", \"idx\": 1400983200000, \"val\": 0}, {\"col\": \"time\", \"idx\": 1400986800000, \"val\": 2}, {\"col\": \"time\", \"idx\": 1400990400000, \"val\": 0}, {\"col\": \"time\", \"idx\": 1400994000000, \"val\": 0}, {\"col\": \"time\", \"idx\": 1400997600000, \"val\": 0}, {\"col\": \"time\", \"idx\": 1401001200000, \"val\": 0}, {\"col\": \"time\", \"idx\": 1401004800000, \"val\": 0}, {\"col\": \"time\", \"idx\": 1401008400000, \"val\": 0}, {\"col\": \"time\", \"idx\": 1401012000000, \"val\": 0}, {\"col\": \"time\", \"idx\": 1401015600000, \"val\": 0}, {\"col\": \"time\", \"idx\": 1401019200000, \"val\": 2}, {\"col\": \"time\", \"idx\": 1401022800000, \"val\": 3}, {\"col\": \"time\", \"idx\": 1401026400000, \"val\": 3}, {\"col\": \"time\", \"idx\": 1401030000000, \"val\": 3}, {\"col\": \"time\", \"idx\": 1401033600000, \"val\": 7}, {\"col\": \"time\", \"idx\": 1401037200000, \"val\": 5}, {\"col\": \"time\", \"idx\": 1401040800000, \"val\": 7}, {\"col\": \"time\", \"idx\": 1401044400000, \"val\": 2}, {\"col\": \"time\", \"idx\": 1401048000000, \"val\": 3}, {\"col\": \"time\", \"idx\": 1401051600000, \"val\": 18}, {\"col\": \"time\", \"idx\": 1401055200000, \"val\": 7}, {\"col\": \"time\", \"idx\": 1401058800000, \"val\": 3}, {\"col\": \"time\", \"idx\": 1401062400000, \"val\": 4}, {\"col\": \"time\", \"idx\": 1401066000000, \"val\": 0}, {\"col\": \"time\", \"idx\": 1401069600000, \"val\": 0}, {\"col\": \"time\", \"idx\": 1401073200000, \"val\": 1}, {\"col\": \"time\", \"idx\": 1401076800000, \"val\": 0}, {\"col\": \"time\", \"idx\": 1401080400000, \"val\": 1}, {\"col\": \"time\", \"idx\": 1401084000000, \"val\": 0}, {\"col\": \"time\", \"idx\": 1401087600000, \"val\": 0}, {\"col\": \"time\", \"idx\": 1401091200000, \"val\": 1}, {\"col\": \"time\", \"idx\": 1401094800000, \"val\": 0}, {\"col\": \"time\", \"idx\": 1401098400000, \"val\": 0}, {\"col\": \"time\", \"idx\": 1401102000000, \"val\": 1}, {\"col\": \"time\", \"idx\": 1401105600000, \"val\": 0}, {\"col\": \"time\", \"idx\": 1401109200000, \"val\": 17}, {\"col\": \"time\", \"idx\": 1401112800000, \"val\": 0}, {\"col\": \"time\", \"idx\": 1401116400000, \"val\": 13}, {\"col\": \"time\", \"idx\": 1401120000000, \"val\": 0}, {\"col\": \"time\", \"idx\": 1401123600000, \"val\": 1}]}], \"height\": 500, \"legends\": [{\"fill\": \"color\", \"offset\": 0, \"properties\": {}, \"title\": \"Count\"}], \"marks\": [{\"from\": {\"data\": \"table\", \"transform\": [{\"keys\": [\"data.col\"], \"type\": \"facet\"}]}, \"marks\": [{\"properties\": {\"enter\": {\"fill\": {\"field\": \"data.col\", \"scale\": \"color\"}, \"size\": {\"value\": 100}, \"x\": {\"field\": \"data.idx\", \"scale\": \"x\"}, \"y\": {\"field\": \"data.val\", \"scale\": \"y\"}}}, \"type\": \"symbol\"}], \"type\": \"group\"}], \"padding\": \"auto\", \"scales\": [{\"domain\": {\"data\": \"table\", \"field\": \"data.idx\"}, \"name\": \"x\", \"range\": \"width\", \"type\": \"time\"}, {\"domain\": {\"data\": \"table\", \"field\": \"data.val\"}, \"name\": \"y\", \"nice\": true, \"range\": \"height\"}, {\"domain\": {\"data\": \"table\", \"field\": \"data.col\"}, \"name\": \"color\", \"range\": [\"#e41a1c\", \"#377eb8\", \"#4daf4a\", \"#984ea3\", \"#ff7f00\", \"#ffff33\", \"#a65628\", \"#f781bf\", \"#999999\"], \"type\": \"ordinal\"}], \"width\": 960}, function(chart) {\n",
        "         chart({el: \"#vis862ab799c1144618a2c137fac873af8a\"}).update();\n",
        "       });\n",
        "     };\n",
        "     _do_plot();\n",
        "   })();\n",
        "</script>\n",
        "<style>.vega canvas {width: 100%;}</style>\n",
        "        "
       ],
       "metadata": {},
       "output_type": "pyout",
       "prompt_number": 16,
       "text": [
        "<vincent.charts.Scatter at 0x4549e50>"
       ]
      }
     ],
     "prompt_number": 16
    },
    {
     "cell_type": "code",
     "collapsed": false,
     "input": [
      "bar = vincent.Bar(rsa_kw60m)\n",
      "bar.axis_titles(x='Index', y='Value')\n",
      "bar.display()"
     ],
     "language": "python",
     "metadata": {},
     "outputs": [
      {
       "html": [
        "<div id=\"viscdb601c937d44fd48b697ea2850e3ce9\"></div>\n",
        "<script>\n",
        "   ( function() {\n",
        "     var _do_plot = function() {\n",
        "       if (typeof vg === 'undefined') {\n",
        "         window.addEventListener('vincent_libs_loaded', _do_plot)\n",
        "         return;\n",
        "       }\n",
        "       vg.parse.spec({\"axes\": [{\"scale\": \"x\", \"title\": \"Index\", \"type\": \"x\"}, {\"scale\": \"y\", \"title\": \"Value\", \"type\": \"y\"}], \"data\": [{\"name\": \"table\", \"values\": [{\"col\": \"time\", \"idx\": 1399464000000, \"val\": 5}, {\"col\": \"time\", \"idx\": 1399467600000, \"val\": 6}, {\"col\": \"time\", \"idx\": 1399471200000, \"val\": 2}, {\"col\": \"time\", \"idx\": 1399474800000, \"val\": 0}, {\"col\": \"time\", \"idx\": 1399478400000, \"val\": 0}, {\"col\": \"time\", \"idx\": 1399482000000, \"val\": 1}, {\"col\": \"time\", \"idx\": 1399485600000, \"val\": 0}, {\"col\": \"time\", \"idx\": 1399489200000, \"val\": 1}, {\"col\": \"time\", \"idx\": 1399492800000, \"val\": 0}, {\"col\": \"time\", \"idx\": 1399496400000, \"val\": 0}, {\"col\": \"time\", \"idx\": 1399500000000, \"val\": 1}, {\"col\": \"time\", \"idx\": 1399503600000, \"val\": 2}, {\"col\": \"time\", \"idx\": 1399507200000, \"val\": 0}, {\"col\": \"time\", \"idx\": 1399510800000, \"val\": 0}, {\"col\": \"time\", \"idx\": 1399514400000, \"val\": 1}, {\"col\": \"time\", \"idx\": 1399518000000, \"val\": 0}, {\"col\": \"time\", \"idx\": 1399521600000, \"val\": 0}, {\"col\": \"time\", \"idx\": 1399525200000, \"val\": 0}, {\"col\": \"time\", \"idx\": 1399528800000, \"val\": 0}, {\"col\": \"time\", \"idx\": 1399532400000, \"val\": 0}, {\"col\": \"time\", \"idx\": 1399536000000, \"val\": 0}, {\"col\": \"time\", \"idx\": 1399539600000, \"val\": 0}, {\"col\": \"time\", \"idx\": 1399543200000, \"val\": 0}, {\"col\": \"time\", \"idx\": 1399546800000, \"val\": 0}, {\"col\": \"time\", \"idx\": 1399550400000, \"val\": 0}, {\"col\": \"time\", \"idx\": 1399554000000, \"val\": 0}, {\"col\": \"time\", \"idx\": 1399557600000, \"val\": 0}, {\"col\": \"time\", \"idx\": 1399561200000, \"val\": 0}, {\"col\": \"time\", \"idx\": 1399564800000, \"val\": 0}, {\"col\": \"time\", \"idx\": 1399568400000, \"val\": 0}, {\"col\": \"time\", \"idx\": 1399572000000, \"val\": 0}, {\"col\": \"time\", \"idx\": 1399575600000, \"val\": 2}, {\"col\": \"time\", \"idx\": 1399579200000, \"val\": 0}, {\"col\": \"time\", \"idx\": 1399582800000, \"val\": 0}, {\"col\": \"time\", \"idx\": 1399586400000, \"val\": 0}, {\"col\": \"time\", \"idx\": 1399590000000, \"val\": 0}, {\"col\": \"time\", \"idx\": 1399593600000, \"val\": 0}, {\"col\": \"time\", \"idx\": 1399597200000, \"val\": 0}, {\"col\": \"time\", \"idx\": 1399600800000, \"val\": 0}, {\"col\": \"time\", \"idx\": 1399604400000, \"val\": 0}, {\"col\": \"time\", \"idx\": 1399608000000, \"val\": 0}, {\"col\": \"time\", \"idx\": 1399611600000, \"val\": 0}, {\"col\": \"time\", \"idx\": 1399615200000, \"val\": 0}, {\"col\": \"time\", \"idx\": 1399618800000, \"val\": 0}, {\"col\": \"time\", \"idx\": 1399622400000, \"val\": 0}, {\"col\": \"time\", \"idx\": 1399626000000, \"val\": 0}, {\"col\": \"time\", \"idx\": 1399629600000, \"val\": 0}, {\"col\": \"time\", \"idx\": 1399633200000, \"val\": 0}, {\"col\": \"time\", \"idx\": 1399636800000, \"val\": 0}, {\"col\": \"time\", \"idx\": 1399640400000, \"val\": 0}, {\"col\": \"time\", \"idx\": 1399644000000, \"val\": 0}, {\"col\": \"time\", \"idx\": 1399647600000, \"val\": 0}, {\"col\": \"time\", \"idx\": 1399651200000, \"val\": 0}, {\"col\": \"time\", \"idx\": 1399654800000, \"val\": 0}, {\"col\": \"time\", \"idx\": 1399658400000, \"val\": 0}, {\"col\": \"time\", \"idx\": 1399662000000, \"val\": 0}, {\"col\": \"time\", \"idx\": 1399665600000, \"val\": 0}, {\"col\": \"time\", \"idx\": 1399669200000, \"val\": 6}, {\"col\": \"time\", \"idx\": 1399672800000, \"val\": 0}, {\"col\": \"time\", \"idx\": 1399676400000, \"val\": 0}, {\"col\": \"time\", \"idx\": 1399680000000, \"val\": 0}, {\"col\": \"time\", \"idx\": 1399683600000, \"val\": 0}, {\"col\": \"time\", \"idx\": 1399687200000, \"val\": 0}, {\"col\": \"time\", \"idx\": 1399690800000, \"val\": 0}, {\"col\": \"time\", \"idx\": 1399694400000, \"val\": 0}, {\"col\": \"time\", \"idx\": 1399698000000, \"val\": 0}, {\"col\": \"time\", \"idx\": 1399701600000, \"val\": 0}, {\"col\": \"time\", \"idx\": 1399705200000, \"val\": 0}, {\"col\": \"time\", \"idx\": 1399708800000, \"val\": 0}, {\"col\": \"time\", \"idx\": 1399712400000, \"val\": 0}, {\"col\": \"time\", \"idx\": 1399716000000, \"val\": 0}, {\"col\": \"time\", \"idx\": 1399719600000, \"val\": 0}, {\"col\": \"time\", \"idx\": 1399723200000, \"val\": 0}, {\"col\": \"time\", \"idx\": 1399726800000, \"val\": 0}, {\"col\": \"time\", \"idx\": 1399730400000, \"val\": 0}, {\"col\": \"time\", \"idx\": 1399734000000, \"val\": 0}, {\"col\": \"time\", \"idx\": 1399737600000, \"val\": 0}, {\"col\": \"time\", \"idx\": 1399741200000, \"val\": 0}, {\"col\": \"time\", \"idx\": 1399744800000, \"val\": 0}, {\"col\": \"time\", \"idx\": 1399748400000, \"val\": 0}, {\"col\": \"time\", \"idx\": 1399752000000, \"val\": 0}, {\"col\": \"time\", \"idx\": 1399755600000, \"val\": 0}, {\"col\": \"time\", \"idx\": 1399759200000, \"val\": 0}, {\"col\": \"time\", \"idx\": 1399762800000, \"val\": 0}, {\"col\": \"time\", \"idx\": 1399766400000, \"val\": 0}, {\"col\": \"time\", \"idx\": 1399770000000, \"val\": 0}, {\"col\": \"time\", \"idx\": 1399773600000, \"val\": 0}, {\"col\": \"time\", \"idx\": 1399777200000, \"val\": 0}, {\"col\": \"time\", \"idx\": 1399780800000, \"val\": 0}, {\"col\": \"time\", \"idx\": 1399784400000, \"val\": 0}, {\"col\": \"time\", \"idx\": 1399788000000, \"val\": 0}, {\"col\": \"time\", \"idx\": 1399791600000, \"val\": 0}, {\"col\": \"time\", \"idx\": 1399795200000, \"val\": 0}, {\"col\": \"time\", \"idx\": 1399798800000, \"val\": 0}, {\"col\": \"time\", \"idx\": 1399802400000, \"val\": 0}, {\"col\": \"time\", \"idx\": 1399806000000, \"val\": 0}, {\"col\": \"time\", \"idx\": 1399809600000, \"val\": 0}, {\"col\": \"time\", \"idx\": 1399813200000, \"val\": 0}, {\"col\": \"time\", \"idx\": 1399816800000, \"val\": 0}, {\"col\": \"time\", \"idx\": 1399820400000, \"val\": 0}, {\"col\": \"time\", \"idx\": 1399824000000, \"val\": 0}, {\"col\": \"time\", \"idx\": 1399827600000, \"val\": 0}, {\"col\": \"time\", \"idx\": 1399831200000, \"val\": 0}, {\"col\": \"time\", \"idx\": 1399834800000, \"val\": 0}, {\"col\": \"time\", \"idx\": 1399838400000, \"val\": 0}, {\"col\": \"time\", \"idx\": 1399842000000, \"val\": 0}, {\"col\": \"time\", \"idx\": 1399845600000, \"val\": 0}, {\"col\": \"time\", \"idx\": 1399849200000, \"val\": 0}, {\"col\": \"time\", \"idx\": 1399852800000, \"val\": 3}, {\"col\": \"time\", \"idx\": 1399856400000, \"val\": 0}, {\"col\": \"time\", \"idx\": 1399860000000, \"val\": 2}, {\"col\": \"time\", \"idx\": 1399863600000, \"val\": 0}, {\"col\": \"time\", \"idx\": 1399867200000, \"val\": 0}, {\"col\": \"time\", \"idx\": 1399870800000, \"val\": 2}, {\"col\": \"time\", \"idx\": 1399874400000, \"val\": 0}, {\"col\": \"time\", \"idx\": 1399878000000, \"val\": 0}, {\"col\": \"time\", \"idx\": 1399881600000, \"val\": 0}, {\"col\": \"time\", \"idx\": 1399885200000, \"val\": 0}, {\"col\": \"time\", \"idx\": 1399888800000, \"val\": 0}, {\"col\": \"time\", \"idx\": 1399892400000, \"val\": 0}, {\"col\": \"time\", \"idx\": 1399896000000, \"val\": 0}, {\"col\": \"time\", \"idx\": 1399899600000, \"val\": 0}, {\"col\": \"time\", \"idx\": 1399903200000, \"val\": 0}, {\"col\": \"time\", \"idx\": 1399906800000, \"val\": 0}, {\"col\": \"time\", \"idx\": 1399910400000, \"val\": 0}, {\"col\": \"time\", \"idx\": 1399914000000, \"val\": 0}, {\"col\": \"time\", \"idx\": 1399917600000, \"val\": 0}, {\"col\": \"time\", \"idx\": 1399921200000, \"val\": 0}, {\"col\": \"time\", \"idx\": 1399924800000, \"val\": 0}, {\"col\": \"time\", \"idx\": 1399928400000, \"val\": 0}, {\"col\": \"time\", \"idx\": 1399932000000, \"val\": 0}, {\"col\": \"time\", \"idx\": 1399935600000, \"val\": 2}, {\"col\": \"time\", \"idx\": 1399939200000, \"val\": 2}, {\"col\": \"time\", \"idx\": 1399942800000, \"val\": 0}, {\"col\": \"time\", \"idx\": 1399946400000, \"val\": 0}, {\"col\": \"time\", \"idx\": 1399950000000, \"val\": 0}, {\"col\": \"time\", \"idx\": 1399953600000, \"val\": 0}, {\"col\": \"time\", \"idx\": 1399957200000, \"val\": 0}, {\"col\": \"time\", \"idx\": 1399960800000, \"val\": 0}, {\"col\": \"time\", \"idx\": 1399964400000, \"val\": 0}, {\"col\": \"time\", \"idx\": 1399968000000, \"val\": 0}, {\"col\": \"time\", \"idx\": 1399971600000, \"val\": 0}, {\"col\": \"time\", \"idx\": 1399975200000, \"val\": 0}, {\"col\": \"time\", \"idx\": 1399978800000, \"val\": 0}, {\"col\": \"time\", \"idx\": 1399982400000, \"val\": 0}, {\"col\": \"time\", \"idx\": 1399986000000, \"val\": 0}, {\"col\": \"time\", \"idx\": 1399989600000, \"val\": 0}, {\"col\": \"time\", \"idx\": 1399993200000, \"val\": 0}, {\"col\": \"time\", \"idx\": 1399996800000, \"val\": 0}, {\"col\": \"time\", \"idx\": 1400000400000, \"val\": 0}, {\"col\": \"time\", \"idx\": 1400004000000, \"val\": 0}, {\"col\": \"time\", \"idx\": 1400007600000, \"val\": 0}, {\"col\": \"time\", \"idx\": 1400011200000, \"val\": 0}, {\"col\": \"time\", \"idx\": 1400014800000, \"val\": 0}, {\"col\": \"time\", \"idx\": 1400018400000, \"val\": 0}, {\"col\": \"time\", \"idx\": 1400022000000, \"val\": 0}, {\"col\": \"time\", \"idx\": 1400025600000, \"val\": 0}, {\"col\": \"time\", \"idx\": 1400029200000, \"val\": 0}, {\"col\": \"time\", \"idx\": 1400032800000, \"val\": 0}, {\"col\": \"time\", \"idx\": 1400036400000, \"val\": 0}, {\"col\": \"time\", \"idx\": 1400040000000, \"val\": 0}, {\"col\": \"time\", \"idx\": 1400043600000, \"val\": 0}, {\"col\": \"time\", \"idx\": 1400047200000, \"val\": 0}, {\"col\": \"time\", \"idx\": 1400050800000, \"val\": 0}, {\"col\": \"time\", \"idx\": 1400054400000, \"val\": 0}, {\"col\": \"time\", \"idx\": 1400058000000, \"val\": 0}, {\"col\": \"time\", \"idx\": 1400061600000, \"val\": 0}, {\"col\": \"time\", \"idx\": 1400065200000, \"val\": 0}, {\"col\": \"time\", \"idx\": 1400068800000, \"val\": 0}, {\"col\": \"time\", \"idx\": 1400072400000, \"val\": 0}, {\"col\": \"time\", \"idx\": 1400076000000, \"val\": 0}, {\"col\": \"time\", \"idx\": 1400079600000, \"val\": 0}, {\"col\": \"time\", \"idx\": 1400083200000, \"val\": 0}, {\"col\": \"time\", \"idx\": 1400086800000, \"val\": 0}, {\"col\": \"time\", \"idx\": 1400090400000, \"val\": 0}, {\"col\": \"time\", \"idx\": 1400094000000, \"val\": 0}, {\"col\": \"time\", \"idx\": 1400097600000, \"val\": 0}, {\"col\": \"time\", \"idx\": 1400101200000, \"val\": 0}, {\"col\": \"time\", \"idx\": 1400104800000, \"val\": 0}, {\"col\": \"time\", \"idx\": 1400108400000, \"val\": 0}, {\"col\": \"time\", \"idx\": 1400112000000, \"val\": 0}, {\"col\": \"time\", \"idx\": 1400115600000, \"val\": 0}, {\"col\": \"time\", \"idx\": 1400119200000, \"val\": 0}, {\"col\": \"time\", \"idx\": 1400122800000, \"val\": 0}, {\"col\": \"time\", \"idx\": 1400126400000, \"val\": 0}, {\"col\": \"time\", \"idx\": 1400130000000, \"val\": 0}, {\"col\": \"time\", \"idx\": 1400133600000, \"val\": 0}, {\"col\": \"time\", \"idx\": 1400137200000, \"val\": 0}, {\"col\": \"time\", \"idx\": 1400140800000, \"val\": 0}, {\"col\": \"time\", \"idx\": 1400144400000, \"val\": 0}, {\"col\": \"time\", \"idx\": 1400148000000, \"val\": 0}, {\"col\": \"time\", \"idx\": 1400151600000, \"val\": 0}, {\"col\": \"time\", \"idx\": 1400155200000, \"val\": 0}, {\"col\": \"time\", \"idx\": 1400158800000, \"val\": 0}, {\"col\": \"time\", \"idx\": 1400162400000, \"val\": 0}, {\"col\": \"time\", \"idx\": 1400166000000, \"val\": 0}, {\"col\": \"time\", \"idx\": 1400169600000, \"val\": 0}, {\"col\": \"time\", \"idx\": 1400173200000, \"val\": 0}, {\"col\": \"time\", \"idx\": 1400176800000, \"val\": 0}, {\"col\": \"time\", \"idx\": 1400180400000, \"val\": 0}, {\"col\": \"time\", \"idx\": 1400184000000, \"val\": 0}, {\"col\": \"time\", \"idx\": 1400187600000, \"val\": 0}, {\"col\": \"time\", \"idx\": 1400191200000, \"val\": 0}, {\"col\": \"time\", \"idx\": 1400194800000, \"val\": 0}, {\"col\": \"time\", \"idx\": 1400198400000, \"val\": 0}, {\"col\": \"time\", \"idx\": 1400202000000, \"val\": 0}, {\"col\": \"time\", \"idx\": 1400205600000, \"val\": 0}, {\"col\": \"time\", \"idx\": 1400209200000, \"val\": 0}, {\"col\": \"time\", \"idx\": 1400212800000, \"val\": 0}, {\"col\": \"time\", \"idx\": 1400216400000, \"val\": 0}, {\"col\": \"time\", \"idx\": 1400220000000, \"val\": 0}, {\"col\": \"time\", \"idx\": 1400223600000, \"val\": 0}, {\"col\": \"time\", \"idx\": 1400227200000, \"val\": 0}, {\"col\": \"time\", \"idx\": 1400230800000, \"val\": 0}, {\"col\": \"time\", \"idx\": 1400234400000, \"val\": 0}, {\"col\": \"time\", \"idx\": 1400238000000, \"val\": 0}, {\"col\": \"time\", \"idx\": 1400241600000, \"val\": 0}, {\"col\": \"time\", \"idx\": 1400245200000, \"val\": 0}, {\"col\": \"time\", \"idx\": 1400248800000, \"val\": 0}, {\"col\": \"time\", \"idx\": 1400252400000, \"val\": 0}, {\"col\": \"time\", \"idx\": 1400256000000, \"val\": 0}, {\"col\": \"time\", \"idx\": 1400259600000, \"val\": 0}, {\"col\": \"time\", \"idx\": 1400263200000, \"val\": 0}, {\"col\": \"time\", \"idx\": 1400266800000, \"val\": 0}, {\"col\": \"time\", \"idx\": 1400270400000, \"val\": 0}, {\"col\": \"time\", \"idx\": 1400274000000, \"val\": 0}, {\"col\": \"time\", \"idx\": 1400277600000, \"val\": 0}, {\"col\": \"time\", \"idx\": 1400281200000, \"val\": 0}, {\"col\": \"time\", \"idx\": 1400284800000, \"val\": 0}, {\"col\": \"time\", \"idx\": 1400288400000, \"val\": 0}, {\"col\": \"time\", \"idx\": 1400292000000, \"val\": 0}, {\"col\": \"time\", \"idx\": 1400295600000, \"val\": 0}, {\"col\": \"time\", \"idx\": 1400299200000, \"val\": 0}, {\"col\": \"time\", \"idx\": 1400302800000, \"val\": 0}, {\"col\": \"time\", \"idx\": 1400306400000, \"val\": 0}, {\"col\": \"time\", \"idx\": 1400310000000, \"val\": 0}, {\"col\": \"time\", \"idx\": 1400313600000, \"val\": 0}, {\"col\": \"time\", \"idx\": 1400317200000, \"val\": 0}, {\"col\": \"time\", \"idx\": 1400320800000, \"val\": 0}, {\"col\": \"time\", \"idx\": 1400324400000, \"val\": 0}, {\"col\": \"time\", \"idx\": 1400328000000, \"val\": 0}, {\"col\": \"time\", \"idx\": 1400331600000, \"val\": 0}, {\"col\": \"time\", \"idx\": 1400335200000, \"val\": 0}, {\"col\": \"time\", \"idx\": 1400338800000, \"val\": 0}, {\"col\": \"time\", \"idx\": 1400342400000, \"val\": 0}, {\"col\": \"time\", \"idx\": 1400346000000, \"val\": 0}, {\"col\": \"time\", \"idx\": 1400349600000, \"val\": 0}, {\"col\": \"time\", \"idx\": 1400353200000, \"val\": 0}, {\"col\": \"time\", \"idx\": 1400356800000, \"val\": 0}, {\"col\": \"time\", \"idx\": 1400360400000, \"val\": 0}, {\"col\": \"time\", \"idx\": 1400364000000, \"val\": 0}, {\"col\": \"time\", \"idx\": 1400367600000, \"val\": 0}, {\"col\": \"time\", \"idx\": 1400371200000, \"val\": 0}, {\"col\": \"time\", \"idx\": 1400374800000, \"val\": 0}, {\"col\": \"time\", \"idx\": 1400378400000, \"val\": 0}, {\"col\": \"time\", \"idx\": 1400382000000, \"val\": 0}, {\"col\": \"time\", \"idx\": 1400385600000, \"val\": 0}, {\"col\": \"time\", \"idx\": 1400389200000, \"val\": 0}, {\"col\": \"time\", \"idx\": 1400392800000, \"val\": 0}, {\"col\": \"time\", \"idx\": 1400396400000, \"val\": 0}, {\"col\": \"time\", \"idx\": 1400400000000, \"val\": 0}, {\"col\": \"time\", \"idx\": 1400403600000, \"val\": 0}, {\"col\": \"time\", \"idx\": 1400407200000, \"val\": 0}, {\"col\": \"time\", \"idx\": 1400410800000, \"val\": 0}, {\"col\": \"time\", \"idx\": 1400414400000, \"val\": 0}, {\"col\": \"time\", \"idx\": 1400418000000, \"val\": 0}, {\"col\": \"time\", \"idx\": 1400421600000, \"val\": 0}, {\"col\": \"time\", \"idx\": 1400425200000, \"val\": 0}, {\"col\": \"time\", \"idx\": 1400428800000, \"val\": 0}, {\"col\": \"time\", \"idx\": 1400432400000, \"val\": 0}, {\"col\": \"time\", \"idx\": 1400436000000, \"val\": 0}, {\"col\": \"time\", \"idx\": 1400439600000, \"val\": 0}, {\"col\": \"time\", \"idx\": 1400443200000, \"val\": 0}, {\"col\": \"time\", \"idx\": 1400446800000, \"val\": 0}, {\"col\": \"time\", \"idx\": 1400450400000, \"val\": 0}, {\"col\": \"time\", \"idx\": 1400454000000, \"val\": 0}, {\"col\": \"time\", \"idx\": 1400457600000, \"val\": 6}, {\"col\": \"time\", \"idx\": 1400461200000, \"val\": 0}, {\"col\": \"time\", \"idx\": 1400464800000, \"val\": 0}, {\"col\": \"time\", \"idx\": 1400468400000, \"val\": 0}, {\"col\": \"time\", \"idx\": 1400472000000, \"val\": 0}, {\"col\": \"time\", \"idx\": 1400475600000, \"val\": 0}, {\"col\": \"time\", \"idx\": 1400479200000, \"val\": 0}, {\"col\": \"time\", \"idx\": 1400482800000, \"val\": 0}, {\"col\": \"time\", \"idx\": 1400486400000, \"val\": 0}, {\"col\": \"time\", \"idx\": 1400490000000, \"val\": 0}, {\"col\": \"time\", \"idx\": 1400493600000, \"val\": 0}, {\"col\": \"time\", \"idx\": 1400497200000, \"val\": 0}, {\"col\": \"time\", \"idx\": 1400500800000, \"val\": 0}, {\"col\": \"time\", \"idx\": 1400504400000, \"val\": 0}, {\"col\": \"time\", \"idx\": 1400508000000, \"val\": 0}, {\"col\": \"time\", \"idx\": 1400511600000, \"val\": 0}, {\"col\": \"time\", \"idx\": 1400515200000, \"val\": 0}, {\"col\": \"time\", \"idx\": 1400518800000, \"val\": 0}, {\"col\": \"time\", \"idx\": 1400522400000, \"val\": 0}, {\"col\": \"time\", \"idx\": 1400526000000, \"val\": 0}, {\"col\": \"time\", \"idx\": 1400529600000, \"val\": 0}, {\"col\": \"time\", \"idx\": 1400533200000, \"val\": 0}, {\"col\": \"time\", \"idx\": 1400536800000, \"val\": 0}, {\"col\": \"time\", \"idx\": 1400540400000, \"val\": 0}, {\"col\": \"time\", \"idx\": 1400544000000, \"val\": 0}, {\"col\": \"time\", \"idx\": 1400547600000, \"val\": 0}, {\"col\": \"time\", \"idx\": 1400551200000, \"val\": 0}, {\"col\": \"time\", \"idx\": 1400554800000, \"val\": 0}, {\"col\": \"time\", \"idx\": 1400558400000, \"val\": 0}, {\"col\": \"time\", \"idx\": 1400562000000, \"val\": 0}, {\"col\": \"time\", \"idx\": 1400565600000, \"val\": 0}, {\"col\": \"time\", \"idx\": 1400569200000, \"val\": 0}, {\"col\": \"time\", \"idx\": 1400572800000, \"val\": 0}, {\"col\": \"time\", \"idx\": 1400576400000, \"val\": 0}, {\"col\": \"time\", \"idx\": 1400580000000, \"val\": 0}, {\"col\": \"time\", \"idx\": 1400583600000, \"val\": 0}, {\"col\": \"time\", \"idx\": 1400587200000, \"val\": 0}, {\"col\": \"time\", \"idx\": 1400590800000, \"val\": 0}, {\"col\": \"time\", \"idx\": 1400594400000, \"val\": 0}, {\"col\": \"time\", \"idx\": 1400598000000, \"val\": 0}, {\"col\": \"time\", \"idx\": 1400601600000, \"val\": 0}, {\"col\": \"time\", \"idx\": 1400605200000, \"val\": 0}, {\"col\": \"time\", \"idx\": 1400608800000, \"val\": 0}, {\"col\": \"time\", \"idx\": 1400612400000, \"val\": 0}, {\"col\": \"time\", \"idx\": 1400616000000, \"val\": 0}, {\"col\": \"time\", \"idx\": 1400619600000, \"val\": 0}, {\"col\": \"time\", \"idx\": 1400623200000, \"val\": 0}, {\"col\": \"time\", \"idx\": 1400626800000, \"val\": 0}, {\"col\": \"time\", \"idx\": 1400630400000, \"val\": 0}, {\"col\": \"time\", \"idx\": 1400634000000, \"val\": 0}, {\"col\": \"time\", \"idx\": 1400637600000, \"val\": 0}, {\"col\": \"time\", \"idx\": 1400641200000, \"val\": 0}, {\"col\": \"time\", \"idx\": 1400644800000, \"val\": 0}, {\"col\": \"time\", \"idx\": 1400648400000, \"val\": 0}, {\"col\": \"time\", \"idx\": 1400652000000, \"val\": 0}, {\"col\": \"time\", \"idx\": 1400655600000, \"val\": 0}, {\"col\": \"time\", \"idx\": 1400659200000, \"val\": 0}, {\"col\": \"time\", \"idx\": 1400662800000, \"val\": 0}, {\"col\": \"time\", \"idx\": 1400666400000, \"val\": 0}, {\"col\": \"time\", \"idx\": 1400670000000, \"val\": 0}, {\"col\": \"time\", \"idx\": 1400673600000, \"val\": 0}, {\"col\": \"time\", \"idx\": 1400677200000, \"val\": 0}, {\"col\": \"time\", \"idx\": 1400680800000, \"val\": 0}, {\"col\": \"time\", \"idx\": 1400684400000, \"val\": 0}, {\"col\": \"time\", \"idx\": 1400688000000, \"val\": 0}, {\"col\": \"time\", \"idx\": 1400691600000, \"val\": 0}, {\"col\": \"time\", \"idx\": 1400695200000, \"val\": 0}, {\"col\": \"time\", \"idx\": 1400698800000, \"val\": 0}, {\"col\": \"time\", \"idx\": 1400702400000, \"val\": 0}, {\"col\": \"time\", \"idx\": 1400706000000, \"val\": 0}, {\"col\": \"time\", \"idx\": 1400709600000, \"val\": 0}, {\"col\": \"time\", \"idx\": 1400713200000, \"val\": 0}, {\"col\": \"time\", \"idx\": 1400716800000, \"val\": 0}, {\"col\": \"time\", \"idx\": 1400720400000, \"val\": 0}, {\"col\": \"time\", \"idx\": 1400724000000, \"val\": 0}, {\"col\": \"time\", \"idx\": 1400727600000, \"val\": 0}, {\"col\": \"time\", \"idx\": 1400731200000, \"val\": 0}, {\"col\": \"time\", \"idx\": 1400734800000, \"val\": 0}, {\"col\": \"time\", \"idx\": 1400738400000, \"val\": 0}, {\"col\": \"time\", \"idx\": 1400742000000, \"val\": 0}, {\"col\": \"time\", \"idx\": 1400745600000, \"val\": 0}, {\"col\": \"time\", \"idx\": 1400749200000, \"val\": 0}, {\"col\": \"time\", \"idx\": 1400752800000, \"val\": 0}, {\"col\": \"time\", \"idx\": 1400756400000, \"val\": 0}, {\"col\": \"time\", \"idx\": 1400760000000, \"val\": 0}, {\"col\": \"time\", \"idx\": 1400763600000, \"val\": 0}, {\"col\": \"time\", \"idx\": 1400767200000, \"val\": 0}, {\"col\": \"time\", \"idx\": 1400770800000, \"val\": 0}, {\"col\": \"time\", \"idx\": 1400774400000, \"val\": 36}, {\"col\": \"time\", \"idx\": 1400778000000, \"val\": 45}, {\"col\": \"time\", \"idx\": 1400781600000, \"val\": 54}, {\"col\": \"time\", \"idx\": 1400785200000, \"val\": 9}, {\"col\": \"time\", \"idx\": 1400788800000, \"val\": 0}, {\"col\": \"time\", \"idx\": 1400792400000, \"val\": 19}, {\"col\": \"time\", \"idx\": 1400796000000, \"val\": 0}, {\"col\": \"time\", \"idx\": 1400799600000, \"val\": 0}, {\"col\": \"time\", \"idx\": 1400803200000, \"val\": 0}, {\"col\": \"time\", \"idx\": 1400806800000, \"val\": 0}, {\"col\": \"time\", \"idx\": 1400810400000, \"val\": 18}, {\"col\": \"time\", \"idx\": 1400814000000, \"val\": 9}, {\"col\": \"time\", \"idx\": 1400817600000, \"val\": 19}, {\"col\": \"time\", \"idx\": 1400821200000, \"val\": 0}, {\"col\": \"time\", \"idx\": 1400824800000, \"val\": 0}, {\"col\": \"time\", \"idx\": 1400828400000, \"val\": 0}, {\"col\": \"time\", \"idx\": 1400832000000, \"val\": 0}, {\"col\": \"time\", \"idx\": 1400835600000, \"val\": 0}, {\"col\": \"time\", \"idx\": 1400839200000, \"val\": 9}, {\"col\": \"time\", \"idx\": 1400842800000, \"val\": 0}, {\"col\": \"time\", \"idx\": 1400846400000, \"val\": 0}, {\"col\": \"time\", \"idx\": 1400850000000, \"val\": 55}, {\"col\": \"time\", \"idx\": 1400853600000, \"val\": 8}, {\"col\": \"time\", \"idx\": 1400857200000, \"val\": 0}, {\"col\": \"time\", \"idx\": 1400860800000, \"val\": 0}, {\"col\": \"time\", \"idx\": 1400864400000, \"val\": 0}, {\"col\": \"time\", \"idx\": 1400868000000, \"val\": 7}, {\"col\": \"time\", \"idx\": 1400871600000, \"val\": 54}, {\"col\": \"time\", \"idx\": 1400875200000, \"val\": 53}, {\"col\": \"time\", \"idx\": 1400878800000, \"val\": 9}, {\"col\": \"time\", \"idx\": 1400882400000, \"val\": 16}, {\"col\": \"time\", \"idx\": 1400886000000, \"val\": 8}, {\"col\": \"time\", \"idx\": 1400889600000, \"val\": 0}, {\"col\": \"time\", \"idx\": 1400893200000, \"val\": 0}, {\"col\": \"time\", \"idx\": 1400896800000, \"val\": 12}, {\"col\": \"time\", \"idx\": 1400900400000, \"val\": 0}, {\"col\": \"time\", \"idx\": 1400904000000, \"val\": 0}, {\"col\": \"time\", \"idx\": 1400907600000, \"val\": 0}, {\"col\": \"time\", \"idx\": 1400911200000, \"val\": 0}, {\"col\": \"time\", \"idx\": 1400914800000, \"val\": 0}, {\"col\": \"time\", \"idx\": 1400918400000, \"val\": 0}, {\"col\": \"time\", \"idx\": 1400922000000, \"val\": 0}, {\"col\": \"time\", \"idx\": 1400925600000, \"val\": 0}, {\"col\": \"time\", \"idx\": 1400929200000, \"val\": 4}, {\"col\": \"time\", \"idx\": 1400932800000, \"val\": 0}, {\"col\": \"time\", \"idx\": 1400936400000, \"val\": 3}, {\"col\": \"time\", \"idx\": 1400940000000, \"val\": 0}, {\"col\": \"time\", \"idx\": 1400943600000, \"val\": 2}, {\"col\": \"time\", \"idx\": 1400947200000, \"val\": 4}, {\"col\": \"time\", \"idx\": 1400950800000, \"val\": 10}, {\"col\": \"time\", \"idx\": 1400954400000, \"val\": 0}, {\"col\": \"time\", \"idx\": 1400958000000, \"val\": 2}, {\"col\": \"time\", \"idx\": 1400961600000, \"val\": 1}, {\"col\": \"time\", \"idx\": 1400965200000, \"val\": 2}, {\"col\": \"time\", \"idx\": 1400968800000, \"val\": 3}, {\"col\": \"time\", \"idx\": 1400972400000, \"val\": 6}, {\"col\": \"time\", \"idx\": 1400976000000, \"val\": 1}, {\"col\": \"time\", \"idx\": 1400979600000, \"val\": 0}, {\"col\": \"time\", \"idx\": 1400983200000, \"val\": 0}, {\"col\": \"time\", \"idx\": 1400986800000, \"val\": 2}, {\"col\": \"time\", \"idx\": 1400990400000, \"val\": 0}, {\"col\": \"time\", \"idx\": 1400994000000, \"val\": 0}, {\"col\": \"time\", \"idx\": 1400997600000, \"val\": 0}, {\"col\": \"time\", \"idx\": 1401001200000, \"val\": 0}, {\"col\": \"time\", \"idx\": 1401004800000, \"val\": 0}, {\"col\": \"time\", \"idx\": 1401008400000, \"val\": 0}, {\"col\": \"time\", \"idx\": 1401012000000, \"val\": 0}, {\"col\": \"time\", \"idx\": 1401015600000, \"val\": 0}, {\"col\": \"time\", \"idx\": 1401019200000, \"val\": 2}, {\"col\": \"time\", \"idx\": 1401022800000, \"val\": 3}, {\"col\": \"time\", \"idx\": 1401026400000, \"val\": 3}, {\"col\": \"time\", \"idx\": 1401030000000, \"val\": 3}, {\"col\": \"time\", \"idx\": 1401033600000, \"val\": 7}, {\"col\": \"time\", \"idx\": 1401037200000, \"val\": 5}, {\"col\": \"time\", \"idx\": 1401040800000, \"val\": 7}, {\"col\": \"time\", \"idx\": 1401044400000, \"val\": 2}, {\"col\": \"time\", \"idx\": 1401048000000, \"val\": 3}, {\"col\": \"time\", \"idx\": 1401051600000, \"val\": 18}, {\"col\": \"time\", \"idx\": 1401055200000, \"val\": 7}, {\"col\": \"time\", \"idx\": 1401058800000, \"val\": 3}, {\"col\": \"time\", \"idx\": 1401062400000, \"val\": 4}, {\"col\": \"time\", \"idx\": 1401066000000, \"val\": 0}, {\"col\": \"time\", \"idx\": 1401069600000, \"val\": 0}, {\"col\": \"time\", \"idx\": 1401073200000, \"val\": 1}, {\"col\": \"time\", \"idx\": 1401076800000, \"val\": 0}, {\"col\": \"time\", \"idx\": 1401080400000, \"val\": 1}, {\"col\": \"time\", \"idx\": 1401084000000, \"val\": 0}, {\"col\": \"time\", \"idx\": 1401087600000, \"val\": 0}, {\"col\": \"time\", \"idx\": 1401091200000, \"val\": 1}, {\"col\": \"time\", \"idx\": 1401094800000, \"val\": 0}, {\"col\": \"time\", \"idx\": 1401098400000, \"val\": 0}, {\"col\": \"time\", \"idx\": 1401102000000, \"val\": 1}, {\"col\": \"time\", \"idx\": 1401105600000, \"val\": 0}, {\"col\": \"time\", \"idx\": 1401109200000, \"val\": 17}, {\"col\": \"time\", \"idx\": 1401112800000, \"val\": 0}, {\"col\": \"time\", \"idx\": 1401116400000, \"val\": 13}, {\"col\": \"time\", \"idx\": 1401120000000, \"val\": 0}, {\"col\": \"time\", \"idx\": 1401123600000, \"val\": 1}]}, {\"name\": \"stats\", \"source\": \"table\", \"transform\": [{\"keys\": [\"data.idx\"], \"type\": \"facet\"}, {\"type\": \"stats\", \"value\": \"data.val\"}]}], \"height\": 500, \"legends\": [], \"marks\": [{\"from\": {\"data\": \"table\", \"transform\": [{\"keys\": [\"data.col\"], \"type\": \"facet\"}, {\"height\": \"data.val\", \"point\": \"data.idx\", \"type\": \"stack\"}]}, \"marks\": [{\"properties\": {\"enter\": {\"fill\": {\"field\": \"data.col\", \"scale\": \"color\"}, \"width\": {\"band\": true, \"offset\": -1, \"scale\": \"x\"}, \"x\": {\"field\": \"data.idx\", \"scale\": \"x\"}, \"y\": {\"field\": \"y\", \"scale\": \"y\"}, \"y2\": {\"field\": \"y2\", \"scale\": \"y\"}}}, \"type\": \"rect\"}], \"type\": \"group\"}], \"padding\": \"auto\", \"scales\": [{\"domain\": {\"data\": \"table\", \"field\": \"data.idx\"}, \"name\": \"x\", \"range\": \"width\", \"type\": \"ordinal\", \"zero\": false}, {\"domain\": {\"data\": \"stats\", \"field\": \"sum\"}, \"name\": \"y\", \"nice\": true, \"range\": \"height\"}, {\"domain\": {\"data\": \"table\", \"field\": \"data.col\"}, \"name\": \"color\", \"range\": \"category20\", \"type\": \"ordinal\"}], \"width\": 960}, function(chart) {\n",
        "         chart({el: \"#viscdb601c937d44fd48b697ea2850e3ce9\"}).update();\n",
        "       });\n",
        "     };\n",
        "     _do_plot();\n",
        "   })();\n",
        "</script>\n",
        "<style>.vega canvas {width: 100%;}</style>\n",
        "        "
       ],
       "metadata": {},
       "output_type": "display_data",
       "text": [
        "<IPython.core.display.HTML at 0x435e4d0>"
       ]
      }
     ],
     "prompt_number": 17
    },
    {
     "cell_type": "code",
     "collapsed": false,
     "input": [
      "rsa_kw240m = rsa_kw['time'].resample('240t', how='count')\n",
      "rsa_kw240m.head()"
     ],
     "language": "python",
     "metadata": {},
     "outputs": [
      {
       "metadata": {},
       "output_type": "pyout",
       "prompt_number": 34,
       "text": [
        "2014-05-07 04:00:00    5\n",
        "2014-05-07 08:00:00    8\n",
        "2014-05-07 12:00:00    2\n",
        "2014-05-07 16:00:00    3\n",
        "2014-05-07 20:00:00    1\n",
        "Name: time, dtype: int64"
       ]
      }
     ],
     "prompt_number": 34
    },
    {
     "cell_type": "code",
     "collapsed": false,
     "input": [
      "import vincent\n",
      "from vincent import AxisProperties, PropertySet, ValueRef\n",
      "vincent.core.initialize_notebook()\n",
      "bar = vincent.Bar(rsa_kw240m)\n",
      "bar.legend(title='RSA14: @lndgrn mentions')\n",
      "bar.axis_titles(x='Time', y='# of tweets with \\'@lndgrn\\'/4 hours')\n",
      "#rotate x axis labels\n",
      "ax = AxisProperties(\n",
      "         labels = PropertySet(angle=ValueRef(value=90)))\n",
      "bar.axes[0].properties = ax\n",
      "bar.colors(brew='Spectral')\n",
      "bar.display()"
     ],
     "language": "python",
     "metadata": {},
     "outputs": [
      {
       "html": [
        "\n",
        "           <script>\n",
        "               \n",
        "                function vct_load_lib(url, callback){\n",
        "                      if(typeof d3 !== 'undefined' &&\n",
        "                         url === 'http://d3js.org/d3.v3.min.js'){\n",
        "                        callback()\n",
        "                      }\n",
        "                      var s = document.createElement('script');\n",
        "                      s.src = url;\n",
        "                      s.async = true;\n",
        "                      s.onreadystatechange = s.onload = callback;\n",
        "                      s.onerror = function(){\n",
        "                        console.warn(\"failed to load library \" + url);\n",
        "                        };\n",
        "                      document.getElementsByTagName(\"head\")[0].appendChild(s);\n",
        "                };\n",
        "                var vincent_event = new CustomEvent(\n",
        "                  \"vincent_libs_loaded\",\n",
        "                  {bubbles: true, cancelable: true}\n",
        "                );\n",
        "                \n",
        "               function load_all_libs(){\n",
        "                  console.log('Loading Vincent libs...')\n",
        "                  vct_load_lib('http://d3js.org/d3.v3.min.js', function(){\n",
        "                  vct_load_lib('http://d3js.org/d3.geo.projection.v0.min.js', function(){\n",
        "                  vct_load_lib('http://wrobstory.github.io/d3-cloud/d3.layout.cloud.js', function(){\n",
        "                  vct_load_lib('http://wrobstory.github.io/vega/vega.v1.3.3.js', function(){\n",
        "                  window.dispatchEvent(vincent_event);\n",
        "                  });\n",
        "                  });\n",
        "                  });\n",
        "                  });\n",
        "               };\n",
        "               if(typeof define === \"function\" && define.amd){\n",
        "                    if (window['d3'] === undefined ||\n",
        "                        window['topojson'] === undefined){\n",
        "                        require.config(\n",
        "                            {paths: {\n",
        "                              d3: 'http://d3js.org/d3.v3.min',\n",
        "                              topojson: 'http://d3js.org/topojson.v1.min'\n",
        "                              }\n",
        "                            }\n",
        "                          );\n",
        "                        require([\"d3\"], function(d3){\n",
        "                            console.log('Loading Vincent from require.js...')\n",
        "                            window.d3 = d3;\n",
        "                            require([\"topojson\"], function(topojson){\n",
        "                                window.topojson = topojson;\n",
        "                                load_all_libs();\n",
        "                            });\n",
        "                        });\n",
        "                    } else {\n",
        "                        load_all_libs();\n",
        "                    };\n",
        "               }else{\n",
        "                    console.log('Require.js not found, loading manually...')\n",
        "                    load_all_libs();\n",
        "               };\n",
        "\n",
        "           </script>"
       ],
       "metadata": {},
       "output_type": "display_data",
       "text": [
        "<IPython.core.display.HTML at 0x4537750>"
       ]
      },
      {
       "html": [
        "<div id=\"vis2c408533418f4d55a6f0ede469b455e5\"></div>\n",
        "<script>\n",
        "   ( function() {\n",
        "     var _do_plot = function() {\n",
        "       if (typeof vg === 'undefined') {\n",
        "         window.addEventListener('vincent_libs_loaded', _do_plot)\n",
        "         return;\n",
        "       }\n",
        "       vg.parse.spec({\"axes\": [{\"properties\": {\"labels\": {\"angle\": {\"value\": 90}}}, \"scale\": \"x\", \"title\": \"Time\", \"type\": \"x\"}, {\"scale\": \"y\", \"title\": \"# of tweets with '@lndgrn'/4 hours\", \"type\": \"y\"}], \"data\": [{\"name\": \"table\", \"values\": [{\"col\": \"time\", \"idx\": 1399453200000, \"val\": 5}, {\"col\": \"time\", \"idx\": 1399467600000, \"val\": 8}, {\"col\": \"time\", \"idx\": 1399482000000, \"val\": 2}, {\"col\": \"time\", \"idx\": 1399496400000, \"val\": 3}, {\"col\": \"time\", \"idx\": 1399510800000, \"val\": 1}, {\"col\": \"time\", \"idx\": 1399525200000, \"val\": 0}, {\"col\": \"time\", \"idx\": 1399539600000, \"val\": 0}, {\"col\": \"time\", \"idx\": 1399554000000, \"val\": 0}, {\"col\": \"time\", \"idx\": 1399568400000, \"val\": 2}, {\"col\": \"time\", \"idx\": 1399582800000, \"val\": 0}, {\"col\": \"time\", \"idx\": 1399597200000, \"val\": 0}, {\"col\": \"time\", \"idx\": 1399611600000, \"val\": 0}, {\"col\": \"time\", \"idx\": 1399626000000, \"val\": 0}, {\"col\": \"time\", \"idx\": 1399640400000, \"val\": 0}, {\"col\": \"time\", \"idx\": 1399654800000, \"val\": 0}, {\"col\": \"time\", \"idx\": 1399669200000, \"val\": 6}, {\"col\": \"time\", \"idx\": 1399683600000, \"val\": 0}, {\"col\": \"time\", \"idx\": 1399698000000, \"val\": 0}, {\"col\": \"time\", \"idx\": 1399712400000, \"val\": 0}, {\"col\": \"time\", \"idx\": 1399726800000, \"val\": 0}, {\"col\": \"time\", \"idx\": 1399741200000, \"val\": 0}, {\"col\": \"time\", \"idx\": 1399755600000, \"val\": 0}, {\"col\": \"time\", \"idx\": 1399770000000, \"val\": 0}, {\"col\": \"time\", \"idx\": 1399784400000, \"val\": 0}, {\"col\": \"time\", \"idx\": 1399798800000, \"val\": 0}, {\"col\": \"time\", \"idx\": 1399813200000, \"val\": 0}, {\"col\": \"time\", \"idx\": 1399827600000, \"val\": 0}, {\"col\": \"time\", \"idx\": 1399842000000, \"val\": 3}, {\"col\": \"time\", \"idx\": 1399856400000, \"val\": 2}, {\"col\": \"time\", \"idx\": 1399870800000, \"val\": 2}, {\"col\": \"time\", \"idx\": 1399885200000, \"val\": 0}, {\"col\": \"time\", \"idx\": 1399899600000, \"val\": 0}, {\"col\": \"time\", \"idx\": 1399914000000, \"val\": 0}, {\"col\": \"time\", \"idx\": 1399928400000, \"val\": 4}, {\"col\": \"time\", \"idx\": 1399942800000, \"val\": 0}, {\"col\": \"time\", \"idx\": 1399957200000, \"val\": 0}, {\"col\": \"time\", \"idx\": 1399971600000, \"val\": 0}, {\"col\": \"time\", \"idx\": 1399986000000, \"val\": 0}, {\"col\": \"time\", \"idx\": 1400000400000, \"val\": 0}, {\"col\": \"time\", \"idx\": 1400014800000, \"val\": 0}, {\"col\": \"time\", \"idx\": 1400029200000, \"val\": 0}, {\"col\": \"time\", \"idx\": 1400043600000, \"val\": 0}, {\"col\": \"time\", \"idx\": 1400058000000, \"val\": 0}, {\"col\": \"time\", \"idx\": 1400072400000, \"val\": 0}, {\"col\": \"time\", \"idx\": 1400086800000, \"val\": 0}, {\"col\": \"time\", \"idx\": 1400101200000, \"val\": 0}, {\"col\": \"time\", \"idx\": 1400115600000, \"val\": 0}, {\"col\": \"time\", \"idx\": 1400130000000, \"val\": 0}, {\"col\": \"time\", \"idx\": 1400144400000, \"val\": 0}, {\"col\": \"time\", \"idx\": 1400158800000, \"val\": 0}, {\"col\": \"time\", \"idx\": 1400173200000, \"val\": 0}, {\"col\": \"time\", \"idx\": 1400187600000, \"val\": 0}, {\"col\": \"time\", \"idx\": 1400202000000, \"val\": 0}, {\"col\": \"time\", \"idx\": 1400216400000, \"val\": 0}, {\"col\": \"time\", \"idx\": 1400230800000, \"val\": 0}, {\"col\": \"time\", \"idx\": 1400245200000, \"val\": 0}, {\"col\": \"time\", \"idx\": 1400259600000, \"val\": 0}, {\"col\": \"time\", \"idx\": 1400274000000, \"val\": 0}, {\"col\": \"time\", \"idx\": 1400288400000, \"val\": 0}, {\"col\": \"time\", \"idx\": 1400302800000, \"val\": 0}, {\"col\": \"time\", \"idx\": 1400317200000, \"val\": 0}, {\"col\": \"time\", \"idx\": 1400331600000, \"val\": 0}, {\"col\": \"time\", \"idx\": 1400346000000, \"val\": 0}, {\"col\": \"time\", \"idx\": 1400360400000, \"val\": 0}, {\"col\": \"time\", \"idx\": 1400374800000, \"val\": 0}, {\"col\": \"time\", \"idx\": 1400389200000, \"val\": 0}, {\"col\": \"time\", \"idx\": 1400403600000, \"val\": 0}, {\"col\": \"time\", \"idx\": 1400418000000, \"val\": 0}, {\"col\": \"time\", \"idx\": 1400432400000, \"val\": 0}, {\"col\": \"time\", \"idx\": 1400446800000, \"val\": 6}, {\"col\": \"time\", \"idx\": 1400461200000, \"val\": 0}, {\"col\": \"time\", \"idx\": 1400475600000, \"val\": 0}, {\"col\": \"time\", \"idx\": 1400490000000, \"val\": 0}, {\"col\": \"time\", \"idx\": 1400504400000, \"val\": 0}, {\"col\": \"time\", \"idx\": 1400518800000, \"val\": 0}, {\"col\": \"time\", \"idx\": 1400533200000, \"val\": 0}, {\"col\": \"time\", \"idx\": 1400547600000, \"val\": 0}, {\"col\": \"time\", \"idx\": 1400562000000, \"val\": 0}, {\"col\": \"time\", \"idx\": 1400576400000, \"val\": 0}, {\"col\": \"time\", \"idx\": 1400590800000, \"val\": 0}, {\"col\": \"time\", \"idx\": 1400605200000, \"val\": 0}, {\"col\": \"time\", \"idx\": 1400619600000, \"val\": 0}, {\"col\": \"time\", \"idx\": 1400634000000, \"val\": 0}, {\"col\": \"time\", \"idx\": 1400648400000, \"val\": 0}, {\"col\": \"time\", \"idx\": 1400662800000, \"val\": 0}, {\"col\": \"time\", \"idx\": 1400677200000, \"val\": 0}, {\"col\": \"time\", \"idx\": 1400691600000, \"val\": 0}, {\"col\": \"time\", \"idx\": 1400706000000, \"val\": 0}, {\"col\": \"time\", \"idx\": 1400720400000, \"val\": 0}, {\"col\": \"time\", \"idx\": 1400734800000, \"val\": 0}, {\"col\": \"time\", \"idx\": 1400749200000, \"val\": 0}, {\"col\": \"time\", \"idx\": 1400763600000, \"val\": 36}, {\"col\": \"time\", \"idx\": 1400778000000, \"val\": 108}, {\"col\": \"time\", \"idx\": 1400792400000, \"val\": 19}, {\"col\": \"time\", \"idx\": 1400806800000, \"val\": 46}, {\"col\": \"time\", \"idx\": 1400821200000, \"val\": 0}, {\"col\": \"time\", \"idx\": 1400835600000, \"val\": 9}, {\"col\": \"time\", \"idx\": 1400850000000, \"val\": 63}, {\"col\": \"time\", \"idx\": 1400864400000, \"val\": 114}, {\"col\": \"time\", \"idx\": 1400878800000, \"val\": 33}, {\"col\": \"time\", \"idx\": 1400893200000, \"val\": 12}, {\"col\": \"time\", \"idx\": 1400907600000, \"val\": 0}, {\"col\": \"time\", \"idx\": 1400922000000, \"val\": 4}, {\"col\": \"time\", \"idx\": 1400936400000, \"val\": 9}, {\"col\": \"time\", \"idx\": 1400950800000, \"val\": 13}, {\"col\": \"time\", \"idx\": 1400965200000, \"val\": 12}, {\"col\": \"time\", \"idx\": 1400979600000, \"val\": 2}, {\"col\": \"time\", \"idx\": 1400994000000, \"val\": 0}, {\"col\": \"time\", \"idx\": 1401008400000, \"val\": 2}, {\"col\": \"time\", \"idx\": 1401022800000, \"val\": 16}, {\"col\": \"time\", \"idx\": 1401037200000, \"val\": 17}, {\"col\": \"time\", \"idx\": 1401051600000, \"val\": 32}, {\"col\": \"time\", \"idx\": 1401066000000, \"val\": 1}, {\"col\": \"time\", \"idx\": 1401080400000, \"val\": 2}, {\"col\": \"time\", \"idx\": 1401094800000, \"val\": 1}, {\"col\": \"time\", \"idx\": 1401109200000, \"val\": 30}, {\"col\": \"time\", \"idx\": 1401123600000, \"val\": 1}]}, {\"name\": \"stats\", \"source\": \"table\", \"transform\": [{\"keys\": [\"data.idx\"], \"type\": \"facet\"}, {\"type\": \"stats\", \"value\": \"data.val\"}]}], \"height\": 500, \"legends\": [{\"fill\": \"color\", \"offset\": 0, \"properties\": {}, \"title\": \"RSA14: @lndgrn mentions\"}], \"marks\": [{\"from\": {\"data\": \"table\", \"transform\": [{\"keys\": [\"data.col\"], \"type\": \"facet\"}, {\"height\": \"data.val\", \"point\": \"data.idx\", \"type\": \"stack\"}]}, \"marks\": [{\"properties\": {\"enter\": {\"fill\": {\"field\": \"data.col\", \"scale\": \"color\"}, \"width\": {\"band\": true, \"offset\": -1, \"scale\": \"x\"}, \"x\": {\"field\": \"data.idx\", \"scale\": \"x\"}, \"y\": {\"field\": \"y\", \"scale\": \"y\"}, \"y2\": {\"field\": \"y2\", \"scale\": \"y\"}}}, \"type\": \"rect\"}], \"type\": \"group\"}], \"padding\": \"auto\", \"scales\": [{\"domain\": {\"data\": \"table\", \"field\": \"data.idx\"}, \"name\": \"x\", \"range\": \"width\", \"type\": \"ordinal\", \"zero\": false}, {\"domain\": {\"data\": \"stats\", \"field\": \"sum\"}, \"name\": \"y\", \"nice\": true, \"range\": \"height\"}, {\"domain\": {\"data\": \"table\", \"field\": \"data.col\"}, \"name\": \"color\", \"range\": [\"#9e0142\", \"#d53e4f\", \"#f46d43\", \"#fdae61\", \"#fee08b\", \"#ffffbf\", \"#e6f598\", \"#abdda4\", \"#66c2a5\", \"#3288bd\", \"#5e4fa2\"], \"type\": \"ordinal\"}], \"width\": 960}, function(chart) {\n",
        "         chart({el: \"#vis2c408533418f4d55a6f0ede469b455e5\"}).update();\n",
        "       });\n",
        "     };\n",
        "     _do_plot();\n",
        "   })();\n",
        "</script>\n",
        "<style>.vega canvas {width: 100%;}</style>\n",
        "        "
       ],
       "metadata": {},
       "output_type": "display_data",
       "text": [
        "<IPython.core.display.HTML at 0x4358b90>"
       ]
      }
     ],
     "prompt_number": 36
    },
    {
     "cell_type": "code",
     "collapsed": false,
     "input": [],
     "language": "python",
     "metadata": {},
     "outputs": []
    }
   ],
   "metadata": {}
  }
 ]
}